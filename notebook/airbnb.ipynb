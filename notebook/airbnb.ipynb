{
 "cells": [
  {
   "cell_type": "code",
   "execution_count": 1,
   "id": "9519716d-3a15-4140-9219-6e28f16808b1",
   "metadata": {},
   "outputs": [],
   "source": [
    "import pandas as pd\n",
    "import re\n",
    "import seaborn as sns\n",
    "import matplotlib.pyplot as plt"
   ]
  },
  {
   "cell_type": "code",
   "execution_count": 2,
   "id": "c87ccd28-49ba-486e-9f5d-34564003d7cb",
   "metadata": {},
   "outputs": [],
   "source": [
    "df = pd.read_csv(\"/Users/saeedazad/Desktop/Projects/airbnb-data-analysis/Airbnb_Open_Data.csv\", low_memory=False)"
   ]
  },
  {
   "cell_type": "code",
   "execution_count": 3,
   "id": "eb5beb2a-d01f-4ab4-880b-c237a12567ab",
   "metadata": {},
   "outputs": [],
   "source": [
    "df1= df.copy()"
   ]
  },
  {
   "cell_type": "code",
   "execution_count": 4,
   "id": "5fa9a3e9-2466-4563-a47f-50c8ccb379a0",
   "metadata": {
    "scrolled": true
   },
   "outputs": [
    {
     "data": {
      "text/html": [
       "<div>\n",
       "<style scoped>\n",
       "    .dataframe tbody tr th:only-of-type {\n",
       "        vertical-align: middle;\n",
       "    }\n",
       "\n",
       "    .dataframe tbody tr th {\n",
       "        vertical-align: top;\n",
       "    }\n",
       "\n",
       "    .dataframe thead th {\n",
       "        text-align: right;\n",
       "    }\n",
       "</style>\n",
       "<table border=\"1\" class=\"dataframe\">\n",
       "  <thead>\n",
       "    <tr style=\"text-align: right;\">\n",
       "      <th></th>\n",
       "      <th>id</th>\n",
       "      <th>NAME</th>\n",
       "      <th>host id</th>\n",
       "      <th>host_identity_verified</th>\n",
       "      <th>host name</th>\n",
       "      <th>neighbourhood group</th>\n",
       "      <th>neighbourhood</th>\n",
       "      <th>lat</th>\n",
       "      <th>long</th>\n",
       "      <th>country</th>\n",
       "      <th>...</th>\n",
       "      <th>service fee</th>\n",
       "      <th>minimum nights</th>\n",
       "      <th>number of reviews</th>\n",
       "      <th>last review</th>\n",
       "      <th>reviews per month</th>\n",
       "      <th>review rate number</th>\n",
       "      <th>calculated host listings count</th>\n",
       "      <th>availability 365</th>\n",
       "      <th>house_rules</th>\n",
       "      <th>license</th>\n",
       "    </tr>\n",
       "  </thead>\n",
       "  <tbody>\n",
       "    <tr>\n",
       "      <th>0</th>\n",
       "      <td>1001254</td>\n",
       "      <td>Clean &amp; quiet apt home by the park</td>\n",
       "      <td>80014485718</td>\n",
       "      <td>unconfirmed</td>\n",
       "      <td>Madaline</td>\n",
       "      <td>Brooklyn</td>\n",
       "      <td>Kensington</td>\n",
       "      <td>40.64749</td>\n",
       "      <td>-73.97237</td>\n",
       "      <td>United States</td>\n",
       "      <td>...</td>\n",
       "      <td>$193</td>\n",
       "      <td>10.0</td>\n",
       "      <td>9.0</td>\n",
       "      <td>10/19/2021</td>\n",
       "      <td>0.21</td>\n",
       "      <td>4.0</td>\n",
       "      <td>6.0</td>\n",
       "      <td>286.0</td>\n",
       "      <td>Clean up and treat the home the way you'd like...</td>\n",
       "      <td>NaN</td>\n",
       "    </tr>\n",
       "    <tr>\n",
       "      <th>1</th>\n",
       "      <td>1002102</td>\n",
       "      <td>Skylit Midtown Castle</td>\n",
       "      <td>52335172823</td>\n",
       "      <td>verified</td>\n",
       "      <td>Jenna</td>\n",
       "      <td>Manhattan</td>\n",
       "      <td>Midtown</td>\n",
       "      <td>40.75362</td>\n",
       "      <td>-73.98377</td>\n",
       "      <td>United States</td>\n",
       "      <td>...</td>\n",
       "      <td>$28</td>\n",
       "      <td>30.0</td>\n",
       "      <td>45.0</td>\n",
       "      <td>5/21/2022</td>\n",
       "      <td>0.38</td>\n",
       "      <td>4.0</td>\n",
       "      <td>2.0</td>\n",
       "      <td>228.0</td>\n",
       "      <td>Pet friendly but please confirm with me if the...</td>\n",
       "      <td>NaN</td>\n",
       "    </tr>\n",
       "    <tr>\n",
       "      <th>2</th>\n",
       "      <td>1002403</td>\n",
       "      <td>THE VILLAGE OF HARLEM....NEW YORK !</td>\n",
       "      <td>78829239556</td>\n",
       "      <td>NaN</td>\n",
       "      <td>Elise</td>\n",
       "      <td>Manhattan</td>\n",
       "      <td>Harlem</td>\n",
       "      <td>40.80902</td>\n",
       "      <td>-73.94190</td>\n",
       "      <td>United States</td>\n",
       "      <td>...</td>\n",
       "      <td>$124</td>\n",
       "      <td>3.0</td>\n",
       "      <td>0.0</td>\n",
       "      <td>NaN</td>\n",
       "      <td>NaN</td>\n",
       "      <td>5.0</td>\n",
       "      <td>1.0</td>\n",
       "      <td>352.0</td>\n",
       "      <td>I encourage you to use my kitchen, cooking and...</td>\n",
       "      <td>NaN</td>\n",
       "    </tr>\n",
       "    <tr>\n",
       "      <th>3</th>\n",
       "      <td>1002755</td>\n",
       "      <td>NaN</td>\n",
       "      <td>85098326012</td>\n",
       "      <td>unconfirmed</td>\n",
       "      <td>Garry</td>\n",
       "      <td>Brooklyn</td>\n",
       "      <td>Clinton Hill</td>\n",
       "      <td>40.68514</td>\n",
       "      <td>-73.95976</td>\n",
       "      <td>United States</td>\n",
       "      <td>...</td>\n",
       "      <td>$74</td>\n",
       "      <td>30.0</td>\n",
       "      <td>270.0</td>\n",
       "      <td>7/5/2019</td>\n",
       "      <td>4.64</td>\n",
       "      <td>4.0</td>\n",
       "      <td>1.0</td>\n",
       "      <td>322.0</td>\n",
       "      <td>NaN</td>\n",
       "      <td>NaN</td>\n",
       "    </tr>\n",
       "    <tr>\n",
       "      <th>4</th>\n",
       "      <td>1003689</td>\n",
       "      <td>Entire Apt: Spacious Studio/Loft by central park</td>\n",
       "      <td>92037596077</td>\n",
       "      <td>verified</td>\n",
       "      <td>Lyndon</td>\n",
       "      <td>Manhattan</td>\n",
       "      <td>East Harlem</td>\n",
       "      <td>40.79851</td>\n",
       "      <td>-73.94399</td>\n",
       "      <td>United States</td>\n",
       "      <td>...</td>\n",
       "      <td>$41</td>\n",
       "      <td>10.0</td>\n",
       "      <td>9.0</td>\n",
       "      <td>11/19/2018</td>\n",
       "      <td>0.10</td>\n",
       "      <td>3.0</td>\n",
       "      <td>1.0</td>\n",
       "      <td>289.0</td>\n",
       "      <td>Please no smoking in the house, porch or on th...</td>\n",
       "      <td>NaN</td>\n",
       "    </tr>\n",
       "  </tbody>\n",
       "</table>\n",
       "<p>5 rows × 26 columns</p>\n",
       "</div>"
      ],
      "text/plain": [
       "        id                                              NAME      host id  \\\n",
       "0  1001254                Clean & quiet apt home by the park  80014485718   \n",
       "1  1002102                             Skylit Midtown Castle  52335172823   \n",
       "2  1002403               THE VILLAGE OF HARLEM....NEW YORK !  78829239556   \n",
       "3  1002755                                               NaN  85098326012   \n",
       "4  1003689  Entire Apt: Spacious Studio/Loft by central park  92037596077   \n",
       "\n",
       "  host_identity_verified host name neighbourhood group neighbourhood  \\\n",
       "0            unconfirmed  Madaline            Brooklyn    Kensington   \n",
       "1               verified     Jenna           Manhattan       Midtown   \n",
       "2                    NaN     Elise           Manhattan        Harlem   \n",
       "3            unconfirmed     Garry            Brooklyn  Clinton Hill   \n",
       "4               verified    Lyndon           Manhattan   East Harlem   \n",
       "\n",
       "        lat      long        country  ... service fee minimum nights  \\\n",
       "0  40.64749 -73.97237  United States  ...       $193            10.0   \n",
       "1  40.75362 -73.98377  United States  ...        $28            30.0   \n",
       "2  40.80902 -73.94190  United States  ...       $124             3.0   \n",
       "3  40.68514 -73.95976  United States  ...        $74            30.0   \n",
       "4  40.79851 -73.94399  United States  ...        $41            10.0   \n",
       "\n",
       "  number of reviews last review  reviews per month review rate number  \\\n",
       "0               9.0  10/19/2021               0.21                4.0   \n",
       "1              45.0   5/21/2022               0.38                4.0   \n",
       "2               0.0         NaN                NaN                5.0   \n",
       "3             270.0    7/5/2019               4.64                4.0   \n",
       "4               9.0  11/19/2018               0.10                3.0   \n",
       "\n",
       "  calculated host listings count  availability 365  \\\n",
       "0                            6.0             286.0   \n",
       "1                            2.0             228.0   \n",
       "2                            1.0             352.0   \n",
       "3                            1.0             322.0   \n",
       "4                            1.0             289.0   \n",
       "\n",
       "                                         house_rules license  \n",
       "0  Clean up and treat the home the way you'd like...     NaN  \n",
       "1  Pet friendly but please confirm with me if the...     NaN  \n",
       "2  I encourage you to use my kitchen, cooking and...     NaN  \n",
       "3                                                NaN     NaN  \n",
       "4  Please no smoking in the house, porch or on th...     NaN  \n",
       "\n",
       "[5 rows x 26 columns]"
      ]
     },
     "execution_count": 4,
     "metadata": {},
     "output_type": "execute_result"
    }
   ],
   "source": [
    "df1.head()"
   ]
  },
  {
   "cell_type": "code",
   "execution_count": 6,
   "id": "aa04aa23-bb1b-4ee2-94e3-c094acfbea00",
   "metadata": {},
   "outputs": [
    {
     "data": {
      "text/plain": [
       "id                                     0\n",
       "NAME                                 250\n",
       "host id                                0\n",
       "host_identity_verified               289\n",
       "host name                            406\n",
       "neighbourhood group                   29\n",
       "neighbourhood                         16\n",
       "lat                                    8\n",
       "long                                   8\n",
       "country                              532\n",
       "country code                         131\n",
       "instant_bookable                     105\n",
       "cancellation_policy                   76\n",
       "room type                              0\n",
       "Construction year                    214\n",
       "price                                247\n",
       "service fee                          273\n",
       "minimum nights                       409\n",
       "number of reviews                    183\n",
       "last review                        15893\n",
       "reviews per month                  15879\n",
       "review rate number                   326\n",
       "calculated host listings count       319\n",
       "availability 365                     448\n",
       "house_rules                        52131\n",
       "license                           102597\n",
       "dtype: int64"
      ]
     },
     "execution_count": 6,
     "metadata": {},
     "output_type": "execute_result"
    }
   ],
   "source": [
    "df1.isna().sum()"
   ]
  },
  {
   "cell_type": "code",
   "execution_count": 7,
   "id": "1265dab1",
   "metadata": {},
   "outputs": [
    {
     "data": {
      "text/plain": [
       "Index(['id', 'NAME', 'host id', 'host_identity_verified', 'host name',\n",
       "       'neighbourhood group', 'neighbourhood', 'lat', 'long', 'country',\n",
       "       'country code', 'instant_bookable', 'cancellation_policy', 'room type',\n",
       "       'Construction year', 'price', 'service fee', 'minimum nights',\n",
       "       'number of reviews', 'last review', 'reviews per month',\n",
       "       'review rate number', 'calculated host listings count',\n",
       "       'availability 365', 'house_rules', 'license'],\n",
       "      dtype='object')"
      ]
     },
     "execution_count": 7,
     "metadata": {},
     "output_type": "execute_result"
    }
   ],
   "source": [
    "columns = df1.columns\n",
    "columns"
   ]
  },
  {
   "cell_type": "code",
   "execution_count": 8,
   "id": "5bde45f4-7072-4e35-80d5-aed56fa6c4d4",
   "metadata": {},
   "outputs": [],
   "source": [
    "df1.columns = df1.columns.str.replace(' ', '_')"
   ]
  },
  {
   "cell_type": "code",
   "execution_count": 9,
   "id": "5feed723-1c11-4fe3-a9a5-fbe9f38fccd0",
   "metadata": {},
   "outputs": [],
   "source": [
    "df1['price'] = pd.to_numeric(df1['price'].str.replace('[$,]', '', regex=True), errors='coerce')"
   ]
  },
  {
   "cell_type": "code",
   "execution_count": 10,
   "id": "1d4b9f06-6b27-4899-877a-c7b6e182cbba",
   "metadata": {
    "scrolled": true
   },
   "outputs": [
    {
     "data": {
      "text/plain": [
       "(102599, 26)"
      ]
     },
     "execution_count": 10,
     "metadata": {},
     "output_type": "execute_result"
    }
   ],
   "source": [
    "df1.shape"
   ]
  },
  {
   "cell_type": "code",
   "execution_count": 11,
   "id": "876fb839-f4f3-4154-952e-326b573d1bb7",
   "metadata": {},
   "outputs": [
    {
     "name": "stdout",
     "output_type": "stream",
     "text": [
      "<class 'pandas.core.frame.DataFrame'>\n",
      "RangeIndex: 102599 entries, 0 to 102598\n",
      "Data columns (total 26 columns):\n",
      " #   Column                          Non-Null Count   Dtype  \n",
      "---  ------                          --------------   -----  \n",
      " 0   id                              102599 non-null  int64  \n",
      " 1   NAME                            102349 non-null  object \n",
      " 2   host_id                         102599 non-null  int64  \n",
      " 3   host_identity_verified          102310 non-null  object \n",
      " 4   host_name                       102193 non-null  object \n",
      " 5   neighbourhood_group             102570 non-null  object \n",
      " 6   neighbourhood                   102583 non-null  object \n",
      " 7   lat                             102591 non-null  float64\n",
      " 8   long                            102591 non-null  float64\n",
      " 9   country                         102067 non-null  object \n",
      " 10  country_code                    102468 non-null  object \n",
      " 11  instant_bookable                102494 non-null  object \n",
      " 12  cancellation_policy             102523 non-null  object \n",
      " 13  room_type                       102599 non-null  object \n",
      " 14  Construction_year               102385 non-null  float64\n",
      " 15  price                           102352 non-null  float64\n",
      " 16  service_fee                     102326 non-null  object \n",
      " 17  minimum_nights                  102190 non-null  float64\n",
      " 18  number_of_reviews               102416 non-null  float64\n",
      " 19  last_review                     86706 non-null   object \n",
      " 20  reviews_per_month               86720 non-null   float64\n",
      " 21  review_rate_number              102273 non-null  float64\n",
      " 22  calculated_host_listings_count  102280 non-null  float64\n",
      " 23  availability_365                102151 non-null  float64\n",
      " 24  house_rules                     50468 non-null   object \n",
      " 25  license                         2 non-null       object \n",
      "dtypes: float64(10), int64(2), object(14)\n",
      "memory usage: 20.4+ MB\n"
     ]
    }
   ],
   "source": [
    "df1.info()"
   ]
  },
  {
   "cell_type": "code",
   "execution_count": 12,
   "id": "90f7b2d7",
   "metadata": {},
   "outputs": [
    {
     "data": {
      "text/html": [
       "<div>\n",
       "<style scoped>\n",
       "    .dataframe tbody tr th:only-of-type {\n",
       "        vertical-align: middle;\n",
       "    }\n",
       "\n",
       "    .dataframe tbody tr th {\n",
       "        vertical-align: top;\n",
       "    }\n",
       "\n",
       "    .dataframe thead th {\n",
       "        text-align: right;\n",
       "    }\n",
       "</style>\n",
       "<table border=\"1\" class=\"dataframe\">\n",
       "  <thead>\n",
       "    <tr style=\"text-align: right;\">\n",
       "      <th></th>\n",
       "      <th>id</th>\n",
       "      <th>NAME</th>\n",
       "      <th>host_id</th>\n",
       "      <th>host_identity_verified</th>\n",
       "      <th>host_name</th>\n",
       "      <th>neighbourhood_group</th>\n",
       "      <th>neighbourhood</th>\n",
       "      <th>lat</th>\n",
       "      <th>long</th>\n",
       "      <th>country</th>\n",
       "      <th>...</th>\n",
       "      <th>service_fee</th>\n",
       "      <th>minimum_nights</th>\n",
       "      <th>number_of_reviews</th>\n",
       "      <th>last_review</th>\n",
       "      <th>reviews_per_month</th>\n",
       "      <th>review_rate_number</th>\n",
       "      <th>calculated_host_listings_count</th>\n",
       "      <th>availability_365</th>\n",
       "      <th>house_rules</th>\n",
       "      <th>license</th>\n",
       "    </tr>\n",
       "  </thead>\n",
       "  <tbody>\n",
       "    <tr>\n",
       "      <th>102058</th>\n",
       "      <td>35506831</td>\n",
       "      <td>Master Bedroom with private Bathroom &amp; Balcony</td>\n",
       "      <td>55110690425</td>\n",
       "      <td>unconfirmed</td>\n",
       "      <td>UZeyir</td>\n",
       "      <td>Queens</td>\n",
       "      <td>Maspeth</td>\n",
       "      <td>40.74056</td>\n",
       "      <td>-73.90635</td>\n",
       "      <td>United States</td>\n",
       "      <td>...</td>\n",
       "      <td>$141</td>\n",
       "      <td>1.0</td>\n",
       "      <td>1.0</td>\n",
       "      <td>11/14/2021</td>\n",
       "      <td>0.27</td>\n",
       "      <td>3.0</td>\n",
       "      <td>1.0</td>\n",
       "      <td>339.0</td>\n",
       "      <td>NaN</td>\n",
       "      <td>NaN</td>\n",
       "    </tr>\n",
       "    <tr>\n",
       "      <th>102059</th>\n",
       "      <td>35507383</td>\n",
       "      <td>Cozy 2 br in sunny Fort Greene apt</td>\n",
       "      <td>80193772189</td>\n",
       "      <td>verified</td>\n",
       "      <td>Sally</td>\n",
       "      <td>Brooklyn</td>\n",
       "      <td>Fort Greene</td>\n",
       "      <td>40.68701</td>\n",
       "      <td>-73.97555</td>\n",
       "      <td>United States</td>\n",
       "      <td>...</td>\n",
       "      <td>$130</td>\n",
       "      <td>3.0</td>\n",
       "      <td>38.0</td>\n",
       "      <td>11/13/2021</td>\n",
       "      <td>0.27</td>\n",
       "      <td>3.0</td>\n",
       "      <td>1.0</td>\n",
       "      <td>0.0</td>\n",
       "      <td>NaN</td>\n",
       "      <td>NaN</td>\n",
       "    </tr>\n",
       "    <tr>\n",
       "      <th>102060</th>\n",
       "      <td>35507935</td>\n",
       "      <td>Duplex w/ Terrace @ Box House Hotel</td>\n",
       "      <td>72991962259</td>\n",
       "      <td>verified</td>\n",
       "      <td>The Box House Hotel</td>\n",
       "      <td>Brooklyn</td>\n",
       "      <td>Greenpoint</td>\n",
       "      <td>40.73756</td>\n",
       "      <td>-73.95350</td>\n",
       "      <td>United States</td>\n",
       "      <td>...</td>\n",
       "      <td>$181</td>\n",
       "      <td>3.0</td>\n",
       "      <td>10.0</td>\n",
       "      <td>11/13/2021</td>\n",
       "      <td>0.08</td>\n",
       "      <td>3.0</td>\n",
       "      <td>30.0</td>\n",
       "      <td>32.0</td>\n",
       "      <td>NaN</td>\n",
       "      <td>NaN</td>\n",
       "    </tr>\n",
       "    <tr>\n",
       "      <th>102061</th>\n",
       "      <td>35508488</td>\n",
       "      <td>Cozy, clean Greenpoint room with yard access</td>\n",
       "      <td>74975156081</td>\n",
       "      <td>verified</td>\n",
       "      <td>Dawn</td>\n",
       "      <td>Brooklyn</td>\n",
       "      <td>Greenpoint</td>\n",
       "      <td>40.72516</td>\n",
       "      <td>-73.95004</td>\n",
       "      <td>United States</td>\n",
       "      <td>...</td>\n",
       "      <td>$118</td>\n",
       "      <td>30.0</td>\n",
       "      <td>38.0</td>\n",
       "      <td>11/13/2021</td>\n",
       "      <td>0.34</td>\n",
       "      <td>5.0</td>\n",
       "      <td>2.0</td>\n",
       "      <td>324.0</td>\n",
       "      <td>NaN</td>\n",
       "      <td>NaN</td>\n",
       "    </tr>\n",
       "    <tr>\n",
       "      <th>102062</th>\n",
       "      <td>35509040</td>\n",
       "      <td>2BR XL Loft: Cleaning CDC guidelines implemented</td>\n",
       "      <td>85844415221</td>\n",
       "      <td>unconfirmed</td>\n",
       "      <td>Vida</td>\n",
       "      <td>Brooklyn</td>\n",
       "      <td>Greenpoint</td>\n",
       "      <td>40.72732</td>\n",
       "      <td>-73.94185</td>\n",
       "      <td>United States</td>\n",
       "      <td>...</td>\n",
       "      <td>$71</td>\n",
       "      <td>30.0</td>\n",
       "      <td>13.0</td>\n",
       "      <td>11/13/2021</td>\n",
       "      <td>0.14</td>\n",
       "      <td>4.0</td>\n",
       "      <td>28.0</td>\n",
       "      <td>336.0</td>\n",
       "      <td>NaN</td>\n",
       "      <td>NaN</td>\n",
       "    </tr>\n",
       "  </tbody>\n",
       "</table>\n",
       "<p>5 rows × 26 columns</p>\n",
       "</div>"
      ],
      "text/plain": [
       "              id                                              NAME  \\\n",
       "102058  35506831    Master Bedroom with private Bathroom & Balcony   \n",
       "102059  35507383                Cozy 2 br in sunny Fort Greene apt   \n",
       "102060  35507935               Duplex w/ Terrace @ Box House Hotel   \n",
       "102061  35508488      Cozy, clean Greenpoint room with yard access   \n",
       "102062  35509040  2BR XL Loft: Cleaning CDC guidelines implemented   \n",
       "\n",
       "            host_id host_identity_verified            host_name  \\\n",
       "102058  55110690425            unconfirmed               UZeyir   \n",
       "102059  80193772189               verified                Sally   \n",
       "102060  72991962259               verified  The Box House Hotel   \n",
       "102061  74975156081               verified                 Dawn   \n",
       "102062  85844415221            unconfirmed                 Vida   \n",
       "\n",
       "       neighbourhood_group neighbourhood       lat      long        country  \\\n",
       "102058              Queens       Maspeth  40.74056 -73.90635  United States   \n",
       "102059            Brooklyn   Fort Greene  40.68701 -73.97555  United States   \n",
       "102060            Brooklyn    Greenpoint  40.73756 -73.95350  United States   \n",
       "102061            Brooklyn    Greenpoint  40.72516 -73.95004  United States   \n",
       "102062            Brooklyn    Greenpoint  40.72732 -73.94185  United States   \n",
       "\n",
       "        ... service_fee minimum_nights number_of_reviews last_review  \\\n",
       "102058  ...       $141             1.0               1.0  11/14/2021   \n",
       "102059  ...       $130             3.0              38.0  11/13/2021   \n",
       "102060  ...       $181             3.0              10.0  11/13/2021   \n",
       "102061  ...       $118            30.0              38.0  11/13/2021   \n",
       "102062  ...        $71            30.0              13.0  11/13/2021   \n",
       "\n",
       "        reviews_per_month  review_rate_number calculated_host_listings_count  \\\n",
       "102058               0.27                 3.0                            1.0   \n",
       "102059               0.27                 3.0                            1.0   \n",
       "102060               0.08                 3.0                           30.0   \n",
       "102061               0.34                 5.0                            2.0   \n",
       "102062               0.14                 4.0                           28.0   \n",
       "\n",
       "        availability_365  house_rules license  \n",
       "102058             339.0          NaN     NaN  \n",
       "102059               0.0          NaN     NaN  \n",
       "102060              32.0          NaN     NaN  \n",
       "102061             324.0          NaN     NaN  \n",
       "102062             336.0          NaN     NaN  \n",
       "\n",
       "[5 rows x 26 columns]"
      ]
     },
     "execution_count": 12,
     "metadata": {},
     "output_type": "execute_result"
    }
   ],
   "source": [
    "# check duplicates\n",
    "\n",
    "df1.loc[df1.duplicated()].head() "
   ]
  },
  {
   "cell_type": "code",
   "execution_count": 14,
   "id": "f2284f8d",
   "metadata": {},
   "outputs": [
    {
     "data": {
      "text/plain": [
       "neighbourhood_group\n",
       "Manhattan        43792\n",
       "Brooklyn         41842\n",
       "Queens           13267\n",
       "Bronx             2712\n",
       "Staten Island      955\n",
       "brookln              1\n",
       "manhatan             1\n",
       "Name: count, dtype: int64"
      ]
     },
     "execution_count": 14,
     "metadata": {},
     "output_type": "execute_result"
    }
   ],
   "source": [
    "df1['neighbourhood_group'].value_counts()\n"
   ]
  },
  {
   "cell_type": "code",
   "execution_count": 18,
   "id": "b8e6f42c-7d07-47c2-b5db-abe3338e097d",
   "metadata": {},
   "outputs": [],
   "source": [
    "# Correct misspelled neighbourhood group names\n",
    "df1['neighbourhood_group'] = df1['neighbourhood_group'].replace({'brookln': 'Brooklyn', 'manhatan': 'Manhattan'})\n"
   ]
  },
  {
   "cell_type": "code",
   "execution_count": 16,
   "id": "8b48b727-a5f7-4dbf-92bc-41b5f51c16d9",
   "metadata": {},
   "outputs": [
    {
     "data": {
      "text/plain": [
       "neighbourhood_group\n",
       "Manhattan        43793\n",
       "Brooklyn         41843\n",
       "Queens           13267\n",
       "Bronx             2712\n",
       "Staten Island      955\n",
       "Name: count, dtype: int64"
      ]
     },
     "execution_count": 16,
     "metadata": {},
     "output_type": "execute_result"
    }
   ],
   "source": [
    "df1['neighbourhood_group'].value_counts()"
   ]
  },
  {
   "cell_type": "code",
   "execution_count": 17,
   "id": "f344e8d0-4103-4364-892f-82c66926a613",
   "metadata": {},
   "outputs": [],
   "source": [
    "# drop licence column as it is empty except two values\n",
    "df1.drop(columns='license', inplace=True)"
   ]
  },
  {
   "cell_type": "code",
   "execution_count": 19,
   "id": "3f6ce178-0396-4bcc-af87-0ba2cb5568e3",
   "metadata": {},
   "outputs": [
    {
     "data": {
      "text/plain": [
       "host_identity_verified\n",
       "unconfirmed    51200\n",
       "verified       51110\n",
       "Name: count, dtype: int64"
      ]
     },
     "execution_count": 19,
     "metadata": {},
     "output_type": "execute_result"
    }
   ],
   "source": [
    "df['host_identity_verified'].value_counts()"
   ]
  },
  {
   "cell_type": "code",
   "execution_count": 20,
   "id": "498cbf80-eafe-4770-a903-a19742d5d6cd",
   "metadata": {},
   "outputs": [],
   "source": [
    " #Drop duplicate rows from the DataFrame, keeping the first occurrence.\n",
    "df1.drop_duplicates(keep='first', inplace=True)"
   ]
  },
  {
   "cell_type": "markdown",
   "id": "c9eed420",
   "metadata": {},
   "source": [
    "\n",
    "<table style=\"color:#BC4A3C; font-size:20px; font-family:'SourceCodePro';\">\n",
    "<br>\n",
    "  <td><b>Identifying duplicates that combine of property host, coordinate and price then grouping by host_name </b></td>\n",
    "</table>\n"
   ]
  },
  {
   "cell_type": "code",
   "execution_count": 25,
   "id": "46776fca",
   "metadata": {},
   "outputs": [
    {
     "data": {
      "text/html": [
       "<div>\n",
       "<style scoped>\n",
       "    .dataframe tbody tr th:only-of-type {\n",
       "        vertical-align: middle;\n",
       "    }\n",
       "\n",
       "    .dataframe tbody tr th {\n",
       "        vertical-align: top;\n",
       "    }\n",
       "\n",
       "    .dataframe thead th {\n",
       "        text-align: right;\n",
       "    }\n",
       "</style>\n",
       "<table border=\"1\" class=\"dataframe\">\n",
       "  <thead>\n",
       "    <tr style=\"text-align: right;\">\n",
       "      <th></th>\n",
       "      <th>id</th>\n",
       "      <th>NAME</th>\n",
       "      <th>host_id</th>\n",
       "      <th>host_identity_verified</th>\n",
       "      <th>host_name</th>\n",
       "      <th>neighbourhood_group</th>\n",
       "      <th>neighbourhood</th>\n",
       "      <th>lat</th>\n",
       "      <th>long</th>\n",
       "      <th>country</th>\n",
       "      <th>...</th>\n",
       "      <th>price</th>\n",
       "      <th>service_fee</th>\n",
       "      <th>minimum_nights</th>\n",
       "      <th>number_of_reviews</th>\n",
       "      <th>last_review</th>\n",
       "      <th>reviews_per_month</th>\n",
       "      <th>review_rate_number</th>\n",
       "      <th>calculated_host_listings_count</th>\n",
       "      <th>availability_365</th>\n",
       "      <th>house_rules</th>\n",
       "    </tr>\n",
       "  </thead>\n",
       "  <tbody>\n",
       "    <tr>\n",
       "      <th>0</th>\n",
       "      <td>6698863</td>\n",
       "      <td>MANHATTAN LIVING!</td>\n",
       "      <td>47503557541</td>\n",
       "      <td>verified</td>\n",
       "      <td>(Ari) HENRY LEE</td>\n",
       "      <td>Manhattan</td>\n",
       "      <td>East Harlem</td>\n",
       "      <td>40.78938</td>\n",
       "      <td>-73.94679</td>\n",
       "      <td>United States</td>\n",
       "      <td>...</td>\n",
       "      <td>1179.0</td>\n",
       "      <td>$236</td>\n",
       "      <td>7.0</td>\n",
       "      <td>3.0</td>\n",
       "      <td>12/8/2017</td>\n",
       "      <td>0.06</td>\n",
       "      <td>1.0</td>\n",
       "      <td>1.0</td>\n",
       "      <td>403.0</td>\n",
       "      <td>NaN</td>\n",
       "    </tr>\n",
       "    <tr>\n",
       "      <th>1</th>\n",
       "      <td>40849229</td>\n",
       "      <td>MANHATTAN LIVING!</td>\n",
       "      <td>29667285224</td>\n",
       "      <td>verified</td>\n",
       "      <td>(Ari) HENRY LEE</td>\n",
       "      <td>Manhattan</td>\n",
       "      <td>East Harlem</td>\n",
       "      <td>40.78938</td>\n",
       "      <td>-73.94679</td>\n",
       "      <td>United States</td>\n",
       "      <td>...</td>\n",
       "      <td>1179.0</td>\n",
       "      <td>$236</td>\n",
       "      <td>7.0</td>\n",
       "      <td>3.0</td>\n",
       "      <td>12/8/2017</td>\n",
       "      <td>0.06</td>\n",
       "      <td>1.0</td>\n",
       "      <td>1.0</td>\n",
       "      <td>56.0</td>\n",
       "      <td>NaN</td>\n",
       "    </tr>\n",
       "    <tr>\n",
       "      <th>2</th>\n",
       "      <td>20426279</td>\n",
       "      <td>Prewar Gem in Middle of Everything!</td>\n",
       "      <td>54282592368</td>\n",
       "      <td>verified</td>\n",
       "      <td>(Email hidden by Airbnb)</td>\n",
       "      <td>Manhattan</td>\n",
       "      <td>Midtown</td>\n",
       "      <td>40.76399</td>\n",
       "      <td>-73.98077</td>\n",
       "      <td>United States</td>\n",
       "      <td>...</td>\n",
       "      <td>298.0</td>\n",
       "      <td>$60</td>\n",
       "      <td>3.0</td>\n",
       "      <td>3.0</td>\n",
       "      <td>11/17/2018</td>\n",
       "      <td>0.31</td>\n",
       "      <td>2.0</td>\n",
       "      <td>2.0</td>\n",
       "      <td>0.0</td>\n",
       "      <td>This is a non-smoking residence.  There is lig...</td>\n",
       "    </tr>\n",
       "    <tr>\n",
       "      <th>3</th>\n",
       "      <td>55184175</td>\n",
       "      <td>Prewar Gem in Middle of Everything!</td>\n",
       "      <td>15009968728</td>\n",
       "      <td>unconfirmed</td>\n",
       "      <td>(Email hidden by Airbnb)</td>\n",
       "      <td>Manhattan</td>\n",
       "      <td>Midtown</td>\n",
       "      <td>40.76399</td>\n",
       "      <td>-73.98077</td>\n",
       "      <td>United States</td>\n",
       "      <td>...</td>\n",
       "      <td>298.0</td>\n",
       "      <td>$60</td>\n",
       "      <td>3.0</td>\n",
       "      <td>3.0</td>\n",
       "      <td>11/17/2018</td>\n",
       "      <td>0.31</td>\n",
       "      <td>2.0</td>\n",
       "      <td>2.0</td>\n",
       "      <td>0.0</td>\n",
       "      <td>This is a non-smoking residence.  There is lig...</td>\n",
       "    </tr>\n",
       "    <tr>\n",
       "      <th>4</th>\n",
       "      <td>9420045</td>\n",
       "      <td>Upper West Side One Bedroom on Central Park</td>\n",
       "      <td>71186355784</td>\n",
       "      <td>unconfirmed</td>\n",
       "      <td>(Email hidden by Airbnb)</td>\n",
       "      <td>Manhattan</td>\n",
       "      <td>Upper West Side</td>\n",
       "      <td>40.79610</td>\n",
       "      <td>-73.96300</td>\n",
       "      <td>United States</td>\n",
       "      <td>...</td>\n",
       "      <td>62.0</td>\n",
       "      <td>$12</td>\n",
       "      <td>1.0</td>\n",
       "      <td>60.0</td>\n",
       "      <td>7/6/2019</td>\n",
       "      <td>2.91</td>\n",
       "      <td>1.0</td>\n",
       "      <td>1.0</td>\n",
       "      <td>182.0</td>\n",
       "      <td>NaN</td>\n",
       "    </tr>\n",
       "    <tr>\n",
       "      <th>5</th>\n",
       "      <td>47982736</td>\n",
       "      <td>Upper West Side One Bedroom on Central Park</td>\n",
       "      <td>44094754427</td>\n",
       "      <td>unconfirmed</td>\n",
       "      <td>(Email hidden by Airbnb)</td>\n",
       "      <td>Manhattan</td>\n",
       "      <td>Upper West Side</td>\n",
       "      <td>40.79610</td>\n",
       "      <td>-73.96300</td>\n",
       "      <td>United States</td>\n",
       "      <td>...</td>\n",
       "      <td>62.0</td>\n",
       "      <td>$12</td>\n",
       "      <td>1.0</td>\n",
       "      <td>60.0</td>\n",
       "      <td>7/6/2019</td>\n",
       "      <td>2.91</td>\n",
       "      <td>1.0</td>\n",
       "      <td>1.0</td>\n",
       "      <td>182.0</td>\n",
       "      <td>NaN</td>\n",
       "    </tr>\n",
       "    <tr>\n",
       "      <th>6</th>\n",
       "      <td>11796040</td>\n",
       "      <td>Newly Renovate 2 Bedroom Apartment in Central ...</td>\n",
       "      <td>93276365126</td>\n",
       "      <td>verified</td>\n",
       "      <td>(Mary) Haiy</td>\n",
       "      <td>Brooklyn</td>\n",
       "      <td>Bay Ridge</td>\n",
       "      <td>40.63461</td>\n",
       "      <td>-74.02451</td>\n",
       "      <td>United States</td>\n",
       "      <td>...</td>\n",
       "      <td>465.0</td>\n",
       "      <td>$93</td>\n",
       "      <td>1.0</td>\n",
       "      <td>188.0</td>\n",
       "      <td>6/24/2019</td>\n",
       "      <td>5.81</td>\n",
       "      <td>2.0</td>\n",
       "      <td>1.0</td>\n",
       "      <td>295.0</td>\n",
       "      <td>NaN</td>\n",
       "    </tr>\n",
       "    <tr>\n",
       "      <th>7</th>\n",
       "      <td>43367717</td>\n",
       "      <td>Newly Renovate 2 Bedroom Apartment in Central ...</td>\n",
       "      <td>97706575002</td>\n",
       "      <td>unconfirmed</td>\n",
       "      <td>(Mary) Haiy</td>\n",
       "      <td>Brooklyn</td>\n",
       "      <td>Bay Ridge</td>\n",
       "      <td>40.63461</td>\n",
       "      <td>-74.02451</td>\n",
       "      <td>United States</td>\n",
       "      <td>...</td>\n",
       "      <td>465.0</td>\n",
       "      <td>$93</td>\n",
       "      <td>1.0</td>\n",
       "      <td>188.0</td>\n",
       "      <td>6/24/2019</td>\n",
       "      <td>5.81</td>\n",
       "      <td>2.0</td>\n",
       "      <td>1.0</td>\n",
       "      <td>295.0</td>\n",
       "      <td>NaN</td>\n",
       "    </tr>\n",
       "    <tr>\n",
       "      <th>8</th>\n",
       "      <td>50358730</td>\n",
       "      <td>Newly Renovate 2 Bedroom Apartment in Central ...</td>\n",
       "      <td>8771779200</td>\n",
       "      <td>unconfirmed</td>\n",
       "      <td>(Mary) Haiy</td>\n",
       "      <td>Brooklyn</td>\n",
       "      <td>Bay Ridge</td>\n",
       "      <td>40.63461</td>\n",
       "      <td>-74.02451</td>\n",
       "      <td>United States</td>\n",
       "      <td>...</td>\n",
       "      <td>465.0</td>\n",
       "      <td>$93</td>\n",
       "      <td>1.0</td>\n",
       "      <td>188.0</td>\n",
       "      <td>6/24/2019</td>\n",
       "      <td>5.81</td>\n",
       "      <td>2.0</td>\n",
       "      <td>1.0</td>\n",
       "      <td>295.0</td>\n",
       "      <td>NaN</td>\n",
       "    </tr>\n",
       "    <tr>\n",
       "      <th>9</th>\n",
       "      <td>56028090</td>\n",
       "      <td>Newly Renovate 2 Bedroom Apartment in Central ...</td>\n",
       "      <td>11521662908</td>\n",
       "      <td>verified</td>\n",
       "      <td>(Mary) Haiy</td>\n",
       "      <td>Brooklyn</td>\n",
       "      <td>Bay Ridge</td>\n",
       "      <td>40.63461</td>\n",
       "      <td>-74.02451</td>\n",
       "      <td>United States</td>\n",
       "      <td>...</td>\n",
       "      <td>465.0</td>\n",
       "      <td>$93</td>\n",
       "      <td>1.0</td>\n",
       "      <td>188.0</td>\n",
       "      <td>6/24/2019</td>\n",
       "      <td>5.81</td>\n",
       "      <td>2.0</td>\n",
       "      <td>1.0</td>\n",
       "      <td>295.0</td>\n",
       "      <td>NaN</td>\n",
       "    </tr>\n",
       "  </tbody>\n",
       "</table>\n",
       "<p>10 rows × 25 columns</p>\n",
       "</div>"
      ],
      "text/plain": [
       "         id                                               NAME      host_id  \\\n",
       "0   6698863                                  MANHATTAN LIVING!  47503557541   \n",
       "1  40849229                                  MANHATTAN LIVING!  29667285224   \n",
       "2  20426279                Prewar Gem in Middle of Everything!  54282592368   \n",
       "3  55184175                Prewar Gem in Middle of Everything!  15009968728   \n",
       "4   9420045        Upper West Side One Bedroom on Central Park  71186355784   \n",
       "5  47982736        Upper West Side One Bedroom on Central Park  44094754427   \n",
       "6  11796040  Newly Renovate 2 Bedroom Apartment in Central ...  93276365126   \n",
       "7  43367717  Newly Renovate 2 Bedroom Apartment in Central ...  97706575002   \n",
       "8  50358730  Newly Renovate 2 Bedroom Apartment in Central ...   8771779200   \n",
       "9  56028090  Newly Renovate 2 Bedroom Apartment in Central ...  11521662908   \n",
       "\n",
       "  host_identity_verified                 host_name neighbourhood_group  \\\n",
       "0               verified           (Ari) HENRY LEE           Manhattan   \n",
       "1               verified           (Ari) HENRY LEE           Manhattan   \n",
       "2               verified  (Email hidden by Airbnb)           Manhattan   \n",
       "3            unconfirmed  (Email hidden by Airbnb)           Manhattan   \n",
       "4            unconfirmed  (Email hidden by Airbnb)           Manhattan   \n",
       "5            unconfirmed  (Email hidden by Airbnb)           Manhattan   \n",
       "6               verified               (Mary) Haiy            Brooklyn   \n",
       "7            unconfirmed               (Mary) Haiy            Brooklyn   \n",
       "8            unconfirmed               (Mary) Haiy            Brooklyn   \n",
       "9               verified               (Mary) Haiy            Brooklyn   \n",
       "\n",
       "     neighbourhood       lat      long        country  ...   price  \\\n",
       "0      East Harlem  40.78938 -73.94679  United States  ...  1179.0   \n",
       "1      East Harlem  40.78938 -73.94679  United States  ...  1179.0   \n",
       "2          Midtown  40.76399 -73.98077  United States  ...   298.0   \n",
       "3          Midtown  40.76399 -73.98077  United States  ...   298.0   \n",
       "4  Upper West Side  40.79610 -73.96300  United States  ...    62.0   \n",
       "5  Upper West Side  40.79610 -73.96300  United States  ...    62.0   \n",
       "6        Bay Ridge  40.63461 -74.02451  United States  ...   465.0   \n",
       "7        Bay Ridge  40.63461 -74.02451  United States  ...   465.0   \n",
       "8        Bay Ridge  40.63461 -74.02451  United States  ...   465.0   \n",
       "9        Bay Ridge  40.63461 -74.02451  United States  ...   465.0   \n",
       "\n",
       "  service_fee minimum_nights number_of_reviews  last_review  \\\n",
       "0       $236             7.0               3.0    12/8/2017   \n",
       "1       $236             7.0               3.0    12/8/2017   \n",
       "2        $60             3.0               3.0   11/17/2018   \n",
       "3        $60             3.0               3.0   11/17/2018   \n",
       "4        $12             1.0              60.0     7/6/2019   \n",
       "5        $12             1.0              60.0     7/6/2019   \n",
       "6        $93             1.0             188.0    6/24/2019   \n",
       "7        $93             1.0             188.0    6/24/2019   \n",
       "8        $93             1.0             188.0    6/24/2019   \n",
       "9        $93             1.0             188.0    6/24/2019   \n",
       "\n",
       "   reviews_per_month review_rate_number  calculated_host_listings_count  \\\n",
       "0               0.06                1.0                             1.0   \n",
       "1               0.06                1.0                             1.0   \n",
       "2               0.31                2.0                             2.0   \n",
       "3               0.31                2.0                             2.0   \n",
       "4               2.91                1.0                             1.0   \n",
       "5               2.91                1.0                             1.0   \n",
       "6               5.81                2.0                             1.0   \n",
       "7               5.81                2.0                             1.0   \n",
       "8               5.81                2.0                             1.0   \n",
       "9               5.81                2.0                             1.0   \n",
       "\n",
       "   availability_365                                        house_rules  \n",
       "0             403.0                                                NaN  \n",
       "1              56.0                                                NaN  \n",
       "2               0.0  This is a non-smoking residence.  There is lig...  \n",
       "3               0.0  This is a non-smoking residence.  There is lig...  \n",
       "4             182.0                                                NaN  \n",
       "5             182.0                                                NaN  \n",
       "6             295.0                                                NaN  \n",
       "7             295.0                                                NaN  \n",
       "8             295.0                                                NaN  \n",
       "9             295.0                                                NaN  \n",
       "\n",
       "[10 rows x 25 columns]"
      ]
     },
     "execution_count": 25,
     "metadata": {},
     "output_type": "execute_result"
    }
   ],
   "source": [
    "\n",
    "listing_duplicated = df1.loc[df1.duplicated(subset=['host_name', 'lat', 'long', 'price'], keep=False)]\n",
    "listing_duplicated_sorted = listing_duplicated.sort_values(by=['host_name','lat', 'long', 'price'])\n",
    "#listing_duplicated_sorted.head(20)\n",
    "listing_grouped = listing_duplicated_sorted.groupby(['host_name', 'lat','long','price'])\n",
    "\n",
    "\n",
    "# for n, (host_name, value) in enumerate(listing_grouped):\n",
    "#         if n>=5:\n",
    "#            break\n",
    "#         print(f\"Host: {host_name}\")\n",
    "#         print(value)\n",
    "#         print(\"\\n\")      \n",
    "rows = []\n",
    "for _, group in listing_grouped:\n",
    "      rows.append(group)\n",
    "listing_duplicated_data = pd.concat(rows, ignore_index=True)       \n",
    "listing_duplicated_data.head(10)      \n",
    "              "
   ]
  },
  {
   "cell_type": "code",
   "execution_count": 27,
   "id": "207a1cda",
   "metadata": {},
   "outputs": [
    {
     "data": {
      "text/html": [
       "<style type=\"text/css\">\n",
       "#T_cb015_row0_col0, #T_cb015_row0_col1, #T_cb015_row0_col2, #T_cb015_row0_col3, #T_cb015_row0_col4, #T_cb015_row0_col5, #T_cb015_row0_col6, #T_cb015_row0_col7, #T_cb015_row0_col8, #T_cb015_row0_col9, #T_cb015_row0_col10, #T_cb015_row0_col11, #T_cb015_row0_col12, #T_cb015_row0_col13, #T_cb015_row0_col14, #T_cb015_row0_col15, #T_cb015_row0_col16, #T_cb015_row0_col17, #T_cb015_row0_col18, #T_cb015_row0_col19, #T_cb015_row0_col20, #T_cb015_row0_col21, #T_cb015_row0_col22, #T_cb015_row0_col23, #T_cb015_row0_col24, #T_cb015_row0_col25, #T_cb015_row1_col0, #T_cb015_row1_col1, #T_cb015_row1_col2, #T_cb015_row1_col3, #T_cb015_row1_col4, #T_cb015_row1_col5, #T_cb015_row1_col6, #T_cb015_row1_col7, #T_cb015_row1_col8, #T_cb015_row1_col9, #T_cb015_row1_col10, #T_cb015_row1_col11, #T_cb015_row1_col12, #T_cb015_row1_col13, #T_cb015_row1_col14, #T_cb015_row1_col15, #T_cb015_row1_col16, #T_cb015_row1_col17, #T_cb015_row1_col18, #T_cb015_row1_col19, #T_cb015_row1_col20, #T_cb015_row1_col21, #T_cb015_row1_col22, #T_cb015_row1_col23, #T_cb015_row1_col24, #T_cb015_row1_col25, #T_cb015_row4_col0, #T_cb015_row4_col1, #T_cb015_row4_col2, #T_cb015_row4_col3, #T_cb015_row4_col4, #T_cb015_row4_col5, #T_cb015_row4_col6, #T_cb015_row4_col7, #T_cb015_row4_col8, #T_cb015_row4_col9, #T_cb015_row4_col10, #T_cb015_row4_col11, #T_cb015_row4_col12, #T_cb015_row4_col13, #T_cb015_row4_col14, #T_cb015_row4_col15, #T_cb015_row4_col16, #T_cb015_row4_col17, #T_cb015_row4_col18, #T_cb015_row4_col19, #T_cb015_row4_col20, #T_cb015_row4_col21, #T_cb015_row4_col22, #T_cb015_row4_col23, #T_cb015_row4_col24, #T_cb015_row4_col25, #T_cb015_row5_col0, #T_cb015_row5_col1, #T_cb015_row5_col2, #T_cb015_row5_col3, #T_cb015_row5_col4, #T_cb015_row5_col5, #T_cb015_row5_col6, #T_cb015_row5_col7, #T_cb015_row5_col8, #T_cb015_row5_col9, #T_cb015_row5_col10, #T_cb015_row5_col11, #T_cb015_row5_col12, #T_cb015_row5_col13, #T_cb015_row5_col14, #T_cb015_row5_col15, #T_cb015_row5_col16, #T_cb015_row5_col17, #T_cb015_row5_col18, #T_cb015_row5_col19, #T_cb015_row5_col20, #T_cb015_row5_col21, #T_cb015_row5_col22, #T_cb015_row5_col23, #T_cb015_row5_col24, #T_cb015_row5_col25 {\n",
       "  background-color: #90EE90;\n",
       "}\n",
       "#T_cb015_row2_col0, #T_cb015_row2_col1, #T_cb015_row2_col2, #T_cb015_row2_col3, #T_cb015_row2_col4, #T_cb015_row2_col5, #T_cb015_row2_col6, #T_cb015_row2_col7, #T_cb015_row2_col8, #T_cb015_row2_col9, #T_cb015_row2_col10, #T_cb015_row2_col11, #T_cb015_row2_col12, #T_cb015_row2_col13, #T_cb015_row2_col14, #T_cb015_row2_col15, #T_cb015_row2_col16, #T_cb015_row2_col17, #T_cb015_row2_col18, #T_cb015_row2_col19, #T_cb015_row2_col20, #T_cb015_row2_col21, #T_cb015_row2_col22, #T_cb015_row2_col23, #T_cb015_row2_col24, #T_cb015_row2_col25, #T_cb015_row3_col0, #T_cb015_row3_col1, #T_cb015_row3_col2, #T_cb015_row3_col3, #T_cb015_row3_col4, #T_cb015_row3_col5, #T_cb015_row3_col6, #T_cb015_row3_col7, #T_cb015_row3_col8, #T_cb015_row3_col9, #T_cb015_row3_col10, #T_cb015_row3_col11, #T_cb015_row3_col12, #T_cb015_row3_col13, #T_cb015_row3_col14, #T_cb015_row3_col15, #T_cb015_row3_col16, #T_cb015_row3_col17, #T_cb015_row3_col18, #T_cb015_row3_col19, #T_cb015_row3_col20, #T_cb015_row3_col21, #T_cb015_row3_col22, #T_cb015_row3_col23, #T_cb015_row3_col24, #T_cb015_row3_col25, #T_cb015_row6_col0, #T_cb015_row6_col1, #T_cb015_row6_col2, #T_cb015_row6_col3, #T_cb015_row6_col4, #T_cb015_row6_col5, #T_cb015_row6_col6, #T_cb015_row6_col7, #T_cb015_row6_col8, #T_cb015_row6_col9, #T_cb015_row6_col10, #T_cb015_row6_col11, #T_cb015_row6_col12, #T_cb015_row6_col13, #T_cb015_row6_col14, #T_cb015_row6_col15, #T_cb015_row6_col16, #T_cb015_row6_col17, #T_cb015_row6_col18, #T_cb015_row6_col19, #T_cb015_row6_col20, #T_cb015_row6_col21, #T_cb015_row6_col22, #T_cb015_row6_col23, #T_cb015_row6_col24, #T_cb015_row6_col25, #T_cb015_row7_col0, #T_cb015_row7_col1, #T_cb015_row7_col2, #T_cb015_row7_col3, #T_cb015_row7_col4, #T_cb015_row7_col5, #T_cb015_row7_col6, #T_cb015_row7_col7, #T_cb015_row7_col8, #T_cb015_row7_col9, #T_cb015_row7_col10, #T_cb015_row7_col11, #T_cb015_row7_col12, #T_cb015_row7_col13, #T_cb015_row7_col14, #T_cb015_row7_col15, #T_cb015_row7_col16, #T_cb015_row7_col17, #T_cb015_row7_col18, #T_cb015_row7_col19, #T_cb015_row7_col20, #T_cb015_row7_col21, #T_cb015_row7_col22, #T_cb015_row7_col23, #T_cb015_row7_col24, #T_cb015_row7_col25, #T_cb015_row8_col0, #T_cb015_row8_col1, #T_cb015_row8_col2, #T_cb015_row8_col3, #T_cb015_row8_col4, #T_cb015_row8_col5, #T_cb015_row8_col6, #T_cb015_row8_col7, #T_cb015_row8_col8, #T_cb015_row8_col9, #T_cb015_row8_col10, #T_cb015_row8_col11, #T_cb015_row8_col12, #T_cb015_row8_col13, #T_cb015_row8_col14, #T_cb015_row8_col15, #T_cb015_row8_col16, #T_cb015_row8_col17, #T_cb015_row8_col18, #T_cb015_row8_col19, #T_cb015_row8_col20, #T_cb015_row8_col21, #T_cb015_row8_col22, #T_cb015_row8_col23, #T_cb015_row8_col24, #T_cb015_row8_col25, #T_cb015_row9_col0, #T_cb015_row9_col1, #T_cb015_row9_col2, #T_cb015_row9_col3, #T_cb015_row9_col4, #T_cb015_row9_col5, #T_cb015_row9_col6, #T_cb015_row9_col7, #T_cb015_row9_col8, #T_cb015_row9_col9, #T_cb015_row9_col10, #T_cb015_row9_col11, #T_cb015_row9_col12, #T_cb015_row9_col13, #T_cb015_row9_col14, #T_cb015_row9_col15, #T_cb015_row9_col16, #T_cb015_row9_col17, #T_cb015_row9_col18, #T_cb015_row9_col19, #T_cb015_row9_col20, #T_cb015_row9_col21, #T_cb015_row9_col22, #T_cb015_row9_col23, #T_cb015_row9_col24, #T_cb015_row9_col25 {\n",
       "  background-color: #CCFFCC;\n",
       "}\n",
       "</style>\n",
       "<table id=\"T_cb015\">\n",
       "  <thead>\n",
       "    <tr>\n",
       "      <th class=\"blank level0\" >&nbsp;</th>\n",
       "      <th id=\"T_cb015_level0_col0\" class=\"col_heading level0 col0\" >id</th>\n",
       "      <th id=\"T_cb015_level0_col1\" class=\"col_heading level0 col1\" >NAME</th>\n",
       "      <th id=\"T_cb015_level0_col2\" class=\"col_heading level0 col2\" >host_id</th>\n",
       "      <th id=\"T_cb015_level0_col3\" class=\"col_heading level0 col3\" >host_identity_verified</th>\n",
       "      <th id=\"T_cb015_level0_col4\" class=\"col_heading level0 col4\" >host_name</th>\n",
       "      <th id=\"T_cb015_level0_col5\" class=\"col_heading level0 col5\" >neighbourhood_group</th>\n",
       "      <th id=\"T_cb015_level0_col6\" class=\"col_heading level0 col6\" >neighbourhood</th>\n",
       "      <th id=\"T_cb015_level0_col7\" class=\"col_heading level0 col7\" >lat</th>\n",
       "      <th id=\"T_cb015_level0_col8\" class=\"col_heading level0 col8\" >long</th>\n",
       "      <th id=\"T_cb015_level0_col9\" class=\"col_heading level0 col9\" >country</th>\n",
       "      <th id=\"T_cb015_level0_col10\" class=\"col_heading level0 col10\" >country_code</th>\n",
       "      <th id=\"T_cb015_level0_col11\" class=\"col_heading level0 col11\" >instant_bookable</th>\n",
       "      <th id=\"T_cb015_level0_col12\" class=\"col_heading level0 col12\" >cancellation_policy</th>\n",
       "      <th id=\"T_cb015_level0_col13\" class=\"col_heading level0 col13\" >room_type</th>\n",
       "      <th id=\"T_cb015_level0_col14\" class=\"col_heading level0 col14\" >Construction_year</th>\n",
       "      <th id=\"T_cb015_level0_col15\" class=\"col_heading level0 col15\" >price</th>\n",
       "      <th id=\"T_cb015_level0_col16\" class=\"col_heading level0 col16\" >service_fee</th>\n",
       "      <th id=\"T_cb015_level0_col17\" class=\"col_heading level0 col17\" >minimum_nights</th>\n",
       "      <th id=\"T_cb015_level0_col18\" class=\"col_heading level0 col18\" >number_of_reviews</th>\n",
       "      <th id=\"T_cb015_level0_col19\" class=\"col_heading level0 col19\" >last_review</th>\n",
       "      <th id=\"T_cb015_level0_col20\" class=\"col_heading level0 col20\" >reviews_per_month</th>\n",
       "      <th id=\"T_cb015_level0_col21\" class=\"col_heading level0 col21\" >review_rate_number</th>\n",
       "      <th id=\"T_cb015_level0_col22\" class=\"col_heading level0 col22\" >calculated_host_listings_count</th>\n",
       "      <th id=\"T_cb015_level0_col23\" class=\"col_heading level0 col23\" >availability_365</th>\n",
       "      <th id=\"T_cb015_level0_col24\" class=\"col_heading level0 col24\" >house_rules</th>\n",
       "      <th id=\"T_cb015_level0_col25\" class=\"col_heading level0 col25\" >style</th>\n",
       "    </tr>\n",
       "  </thead>\n",
       "  <tbody>\n",
       "    <tr>\n",
       "      <th id=\"T_cb015_level0_row0\" class=\"row_heading level0 row0\" >0</th>\n",
       "      <td id=\"T_cb015_row0_col0\" class=\"data row0 col0\" >6698863</td>\n",
       "      <td id=\"T_cb015_row0_col1\" class=\"data row0 col1\" >MANHATTAN LIVING!</td>\n",
       "      <td id=\"T_cb015_row0_col2\" class=\"data row0 col2\" >47503557541</td>\n",
       "      <td id=\"T_cb015_row0_col3\" class=\"data row0 col3\" >verified</td>\n",
       "      <td id=\"T_cb015_row0_col4\" class=\"data row0 col4\" >(Ari) HENRY LEE</td>\n",
       "      <td id=\"T_cb015_row0_col5\" class=\"data row0 col5\" >Manhattan</td>\n",
       "      <td id=\"T_cb015_row0_col6\" class=\"data row0 col6\" >East Harlem</td>\n",
       "      <td id=\"T_cb015_row0_col7\" class=\"data row0 col7\" >40.789380</td>\n",
       "      <td id=\"T_cb015_row0_col8\" class=\"data row0 col8\" >-73.946790</td>\n",
       "      <td id=\"T_cb015_row0_col9\" class=\"data row0 col9\" >United States</td>\n",
       "      <td id=\"T_cb015_row0_col10\" class=\"data row0 col10\" >US</td>\n",
       "      <td id=\"T_cb015_row0_col11\" class=\"data row0 col11\" >True</td>\n",
       "      <td id=\"T_cb015_row0_col12\" class=\"data row0 col12\" >moderate</td>\n",
       "      <td id=\"T_cb015_row0_col13\" class=\"data row0 col13\" >Entire home/apt</td>\n",
       "      <td id=\"T_cb015_row0_col14\" class=\"data row0 col14\" >2020.000000</td>\n",
       "      <td id=\"T_cb015_row0_col15\" class=\"data row0 col15\" >1179.000000</td>\n",
       "      <td id=\"T_cb015_row0_col16\" class=\"data row0 col16\" >$236 </td>\n",
       "      <td id=\"T_cb015_row0_col17\" class=\"data row0 col17\" >7.000000</td>\n",
       "      <td id=\"T_cb015_row0_col18\" class=\"data row0 col18\" >3.000000</td>\n",
       "      <td id=\"T_cb015_row0_col19\" class=\"data row0 col19\" >12/8/2017</td>\n",
       "      <td id=\"T_cb015_row0_col20\" class=\"data row0 col20\" >0.060000</td>\n",
       "      <td id=\"T_cb015_row0_col21\" class=\"data row0 col21\" >1.000000</td>\n",
       "      <td id=\"T_cb015_row0_col22\" class=\"data row0 col22\" >1.000000</td>\n",
       "      <td id=\"T_cb015_row0_col23\" class=\"data row0 col23\" >403.000000</td>\n",
       "      <td id=\"T_cb015_row0_col24\" class=\"data row0 col24\" >nan</td>\n",
       "      <td id=\"T_cb015_row0_col25\" class=\"data row0 col25\" >background-color: #90EE90</td>\n",
       "    </tr>\n",
       "    <tr>\n",
       "      <th id=\"T_cb015_level0_row1\" class=\"row_heading level0 row1\" >1</th>\n",
       "      <td id=\"T_cb015_row1_col0\" class=\"data row1 col0\" >40849229</td>\n",
       "      <td id=\"T_cb015_row1_col1\" class=\"data row1 col1\" >MANHATTAN LIVING!</td>\n",
       "      <td id=\"T_cb015_row1_col2\" class=\"data row1 col2\" >29667285224</td>\n",
       "      <td id=\"T_cb015_row1_col3\" class=\"data row1 col3\" >verified</td>\n",
       "      <td id=\"T_cb015_row1_col4\" class=\"data row1 col4\" >(Ari) HENRY LEE</td>\n",
       "      <td id=\"T_cb015_row1_col5\" class=\"data row1 col5\" >Manhattan</td>\n",
       "      <td id=\"T_cb015_row1_col6\" class=\"data row1 col6\" >East Harlem</td>\n",
       "      <td id=\"T_cb015_row1_col7\" class=\"data row1 col7\" >40.789380</td>\n",
       "      <td id=\"T_cb015_row1_col8\" class=\"data row1 col8\" >-73.946790</td>\n",
       "      <td id=\"T_cb015_row1_col9\" class=\"data row1 col9\" >United States</td>\n",
       "      <td id=\"T_cb015_row1_col10\" class=\"data row1 col10\" >US</td>\n",
       "      <td id=\"T_cb015_row1_col11\" class=\"data row1 col11\" >True</td>\n",
       "      <td id=\"T_cb015_row1_col12\" class=\"data row1 col12\" >moderate</td>\n",
       "      <td id=\"T_cb015_row1_col13\" class=\"data row1 col13\" >Entire home/apt</td>\n",
       "      <td id=\"T_cb015_row1_col14\" class=\"data row1 col14\" >2020.000000</td>\n",
       "      <td id=\"T_cb015_row1_col15\" class=\"data row1 col15\" >1179.000000</td>\n",
       "      <td id=\"T_cb015_row1_col16\" class=\"data row1 col16\" >$236 </td>\n",
       "      <td id=\"T_cb015_row1_col17\" class=\"data row1 col17\" >7.000000</td>\n",
       "      <td id=\"T_cb015_row1_col18\" class=\"data row1 col18\" >3.000000</td>\n",
       "      <td id=\"T_cb015_row1_col19\" class=\"data row1 col19\" >12/8/2017</td>\n",
       "      <td id=\"T_cb015_row1_col20\" class=\"data row1 col20\" >0.060000</td>\n",
       "      <td id=\"T_cb015_row1_col21\" class=\"data row1 col21\" >1.000000</td>\n",
       "      <td id=\"T_cb015_row1_col22\" class=\"data row1 col22\" >1.000000</td>\n",
       "      <td id=\"T_cb015_row1_col23\" class=\"data row1 col23\" >56.000000</td>\n",
       "      <td id=\"T_cb015_row1_col24\" class=\"data row1 col24\" >nan</td>\n",
       "      <td id=\"T_cb015_row1_col25\" class=\"data row1 col25\" >background-color: #90EE90</td>\n",
       "    </tr>\n",
       "    <tr>\n",
       "      <th id=\"T_cb015_level0_row2\" class=\"row_heading level0 row2\" >2</th>\n",
       "      <td id=\"T_cb015_row2_col0\" class=\"data row2 col0\" >20426279</td>\n",
       "      <td id=\"T_cb015_row2_col1\" class=\"data row2 col1\" >Prewar Gem in Middle of Everything!</td>\n",
       "      <td id=\"T_cb015_row2_col2\" class=\"data row2 col2\" >54282592368</td>\n",
       "      <td id=\"T_cb015_row2_col3\" class=\"data row2 col3\" >verified</td>\n",
       "      <td id=\"T_cb015_row2_col4\" class=\"data row2 col4\" >(Email hidden by Airbnb)</td>\n",
       "      <td id=\"T_cb015_row2_col5\" class=\"data row2 col5\" >Manhattan</td>\n",
       "      <td id=\"T_cb015_row2_col6\" class=\"data row2 col6\" >Midtown</td>\n",
       "      <td id=\"T_cb015_row2_col7\" class=\"data row2 col7\" >40.763990</td>\n",
       "      <td id=\"T_cb015_row2_col8\" class=\"data row2 col8\" >-73.980770</td>\n",
       "      <td id=\"T_cb015_row2_col9\" class=\"data row2 col9\" >United States</td>\n",
       "      <td id=\"T_cb015_row2_col10\" class=\"data row2 col10\" >US</td>\n",
       "      <td id=\"T_cb015_row2_col11\" class=\"data row2 col11\" >True</td>\n",
       "      <td id=\"T_cb015_row2_col12\" class=\"data row2 col12\" >flexible</td>\n",
       "      <td id=\"T_cb015_row2_col13\" class=\"data row2 col13\" >Private room</td>\n",
       "      <td id=\"T_cb015_row2_col14\" class=\"data row2 col14\" >2014.000000</td>\n",
       "      <td id=\"T_cb015_row2_col15\" class=\"data row2 col15\" >298.000000</td>\n",
       "      <td id=\"T_cb015_row2_col16\" class=\"data row2 col16\" >$60 </td>\n",
       "      <td id=\"T_cb015_row2_col17\" class=\"data row2 col17\" >3.000000</td>\n",
       "      <td id=\"T_cb015_row2_col18\" class=\"data row2 col18\" >3.000000</td>\n",
       "      <td id=\"T_cb015_row2_col19\" class=\"data row2 col19\" >11/17/2018</td>\n",
       "      <td id=\"T_cb015_row2_col20\" class=\"data row2 col20\" >0.310000</td>\n",
       "      <td id=\"T_cb015_row2_col21\" class=\"data row2 col21\" >2.000000</td>\n",
       "      <td id=\"T_cb015_row2_col22\" class=\"data row2 col22\" >2.000000</td>\n",
       "      <td id=\"T_cb015_row2_col23\" class=\"data row2 col23\" >0.000000</td>\n",
       "      <td id=\"T_cb015_row2_col24\" class=\"data row2 col24\" >This is a non-smoking residence.  There is light housekeeping (washing of linens (biweekly), towels, removal of kitchen trash) but guests are expected to clean up after themselves and keep the area tidy, including removing hair from the bathtub and sink and washing dishes right away.  Remove shoes in the apartment. Slippers are OK. Turn off lights when exiting a room or hallway. Guests are not permitted without prior authorization. Overnight guests are not allowed.  Be courteous to others in the household.  Additional rules will be in the house manual, available upon arrival. </td>\n",
       "      <td id=\"T_cb015_row2_col25\" class=\"data row2 col25\" >background-color: #CCFFCC</td>\n",
       "    </tr>\n",
       "    <tr>\n",
       "      <th id=\"T_cb015_level0_row3\" class=\"row_heading level0 row3\" >3</th>\n",
       "      <td id=\"T_cb015_row3_col0\" class=\"data row3 col0\" >55184175</td>\n",
       "      <td id=\"T_cb015_row3_col1\" class=\"data row3 col1\" >Prewar Gem in Middle of Everything!</td>\n",
       "      <td id=\"T_cb015_row3_col2\" class=\"data row3 col2\" >15009968728</td>\n",
       "      <td id=\"T_cb015_row3_col3\" class=\"data row3 col3\" >unconfirmed</td>\n",
       "      <td id=\"T_cb015_row3_col4\" class=\"data row3 col4\" >(Email hidden by Airbnb)</td>\n",
       "      <td id=\"T_cb015_row3_col5\" class=\"data row3 col5\" >Manhattan</td>\n",
       "      <td id=\"T_cb015_row3_col6\" class=\"data row3 col6\" >Midtown</td>\n",
       "      <td id=\"T_cb015_row3_col7\" class=\"data row3 col7\" >40.763990</td>\n",
       "      <td id=\"T_cb015_row3_col8\" class=\"data row3 col8\" >-73.980770</td>\n",
       "      <td id=\"T_cb015_row3_col9\" class=\"data row3 col9\" >United States</td>\n",
       "      <td id=\"T_cb015_row3_col10\" class=\"data row3 col10\" >US</td>\n",
       "      <td id=\"T_cb015_row3_col11\" class=\"data row3 col11\" >False</td>\n",
       "      <td id=\"T_cb015_row3_col12\" class=\"data row3 col12\" >moderate</td>\n",
       "      <td id=\"T_cb015_row3_col13\" class=\"data row3 col13\" >Private room</td>\n",
       "      <td id=\"T_cb015_row3_col14\" class=\"data row3 col14\" >2014.000000</td>\n",
       "      <td id=\"T_cb015_row3_col15\" class=\"data row3 col15\" >298.000000</td>\n",
       "      <td id=\"T_cb015_row3_col16\" class=\"data row3 col16\" >$60 </td>\n",
       "      <td id=\"T_cb015_row3_col17\" class=\"data row3 col17\" >3.000000</td>\n",
       "      <td id=\"T_cb015_row3_col18\" class=\"data row3 col18\" >3.000000</td>\n",
       "      <td id=\"T_cb015_row3_col19\" class=\"data row3 col19\" >11/17/2018</td>\n",
       "      <td id=\"T_cb015_row3_col20\" class=\"data row3 col20\" >0.310000</td>\n",
       "      <td id=\"T_cb015_row3_col21\" class=\"data row3 col21\" >2.000000</td>\n",
       "      <td id=\"T_cb015_row3_col22\" class=\"data row3 col22\" >2.000000</td>\n",
       "      <td id=\"T_cb015_row3_col23\" class=\"data row3 col23\" >0.000000</td>\n",
       "      <td id=\"T_cb015_row3_col24\" class=\"data row3 col24\" >This is a non-smoking residence.  There is light housekeeping (washing of linens (biweekly), towels, removal of kitchen trash) but guests are expected to clean up after themselves and keep the area tidy, including removing hair from the bathtub and sink and washing dishes right away.  Remove shoes in the apartment. Slippers are OK. Turn off lights when exiting a room or hallway. Guests are not permitted without prior authorization. Overnight guests are not allowed.  Be courteous to others in the household.  Additional rules will be in the house manual, available upon arrival. </td>\n",
       "      <td id=\"T_cb015_row3_col25\" class=\"data row3 col25\" >background-color: #CCFFCC</td>\n",
       "    </tr>\n",
       "    <tr>\n",
       "      <th id=\"T_cb015_level0_row4\" class=\"row_heading level0 row4\" >4</th>\n",
       "      <td id=\"T_cb015_row4_col0\" class=\"data row4 col0\" >9420045</td>\n",
       "      <td id=\"T_cb015_row4_col1\" class=\"data row4 col1\" >Upper West Side One Bedroom on Central Park</td>\n",
       "      <td id=\"T_cb015_row4_col2\" class=\"data row4 col2\" >71186355784</td>\n",
       "      <td id=\"T_cb015_row4_col3\" class=\"data row4 col3\" >unconfirmed</td>\n",
       "      <td id=\"T_cb015_row4_col4\" class=\"data row4 col4\" >(Email hidden by Airbnb)</td>\n",
       "      <td id=\"T_cb015_row4_col5\" class=\"data row4 col5\" >Manhattan</td>\n",
       "      <td id=\"T_cb015_row4_col6\" class=\"data row4 col6\" >Upper West Side</td>\n",
       "      <td id=\"T_cb015_row4_col7\" class=\"data row4 col7\" >40.796100</td>\n",
       "      <td id=\"T_cb015_row4_col8\" class=\"data row4 col8\" >-73.963000</td>\n",
       "      <td id=\"T_cb015_row4_col9\" class=\"data row4 col9\" >United States</td>\n",
       "      <td id=\"T_cb015_row4_col10\" class=\"data row4 col10\" >US</td>\n",
       "      <td id=\"T_cb015_row4_col11\" class=\"data row4 col11\" >False</td>\n",
       "      <td id=\"T_cb015_row4_col12\" class=\"data row4 col12\" >strict</td>\n",
       "      <td id=\"T_cb015_row4_col13\" class=\"data row4 col13\" >Private room</td>\n",
       "      <td id=\"T_cb015_row4_col14\" class=\"data row4 col14\" >2018.000000</td>\n",
       "      <td id=\"T_cb015_row4_col15\" class=\"data row4 col15\" >62.000000</td>\n",
       "      <td id=\"T_cb015_row4_col16\" class=\"data row4 col16\" >$12 </td>\n",
       "      <td id=\"T_cb015_row4_col17\" class=\"data row4 col17\" >1.000000</td>\n",
       "      <td id=\"T_cb015_row4_col18\" class=\"data row4 col18\" >60.000000</td>\n",
       "      <td id=\"T_cb015_row4_col19\" class=\"data row4 col19\" >7/6/2019</td>\n",
       "      <td id=\"T_cb015_row4_col20\" class=\"data row4 col20\" >2.910000</td>\n",
       "      <td id=\"T_cb015_row4_col21\" class=\"data row4 col21\" >1.000000</td>\n",
       "      <td id=\"T_cb015_row4_col22\" class=\"data row4 col22\" >1.000000</td>\n",
       "      <td id=\"T_cb015_row4_col23\" class=\"data row4 col23\" >182.000000</td>\n",
       "      <td id=\"T_cb015_row4_col24\" class=\"data row4 col24\" >nan</td>\n",
       "      <td id=\"T_cb015_row4_col25\" class=\"data row4 col25\" >background-color: #90EE90</td>\n",
       "    </tr>\n",
       "    <tr>\n",
       "      <th id=\"T_cb015_level0_row5\" class=\"row_heading level0 row5\" >5</th>\n",
       "      <td id=\"T_cb015_row5_col0\" class=\"data row5 col0\" >47982736</td>\n",
       "      <td id=\"T_cb015_row5_col1\" class=\"data row5 col1\" >Upper West Side One Bedroom on Central Park</td>\n",
       "      <td id=\"T_cb015_row5_col2\" class=\"data row5 col2\" >44094754427</td>\n",
       "      <td id=\"T_cb015_row5_col3\" class=\"data row5 col3\" >unconfirmed</td>\n",
       "      <td id=\"T_cb015_row5_col4\" class=\"data row5 col4\" >(Email hidden by Airbnb)</td>\n",
       "      <td id=\"T_cb015_row5_col5\" class=\"data row5 col5\" >Manhattan</td>\n",
       "      <td id=\"T_cb015_row5_col6\" class=\"data row5 col6\" >Upper West Side</td>\n",
       "      <td id=\"T_cb015_row5_col7\" class=\"data row5 col7\" >40.796100</td>\n",
       "      <td id=\"T_cb015_row5_col8\" class=\"data row5 col8\" >-73.963000</td>\n",
       "      <td id=\"T_cb015_row5_col9\" class=\"data row5 col9\" >United States</td>\n",
       "      <td id=\"T_cb015_row5_col10\" class=\"data row5 col10\" >US</td>\n",
       "      <td id=\"T_cb015_row5_col11\" class=\"data row5 col11\" >True</td>\n",
       "      <td id=\"T_cb015_row5_col12\" class=\"data row5 col12\" >moderate</td>\n",
       "      <td id=\"T_cb015_row5_col13\" class=\"data row5 col13\" >Private room</td>\n",
       "      <td id=\"T_cb015_row5_col14\" class=\"data row5 col14\" >2018.000000</td>\n",
       "      <td id=\"T_cb015_row5_col15\" class=\"data row5 col15\" >62.000000</td>\n",
       "      <td id=\"T_cb015_row5_col16\" class=\"data row5 col16\" >$12 </td>\n",
       "      <td id=\"T_cb015_row5_col17\" class=\"data row5 col17\" >1.000000</td>\n",
       "      <td id=\"T_cb015_row5_col18\" class=\"data row5 col18\" >60.000000</td>\n",
       "      <td id=\"T_cb015_row5_col19\" class=\"data row5 col19\" >7/6/2019</td>\n",
       "      <td id=\"T_cb015_row5_col20\" class=\"data row5 col20\" >2.910000</td>\n",
       "      <td id=\"T_cb015_row5_col21\" class=\"data row5 col21\" >1.000000</td>\n",
       "      <td id=\"T_cb015_row5_col22\" class=\"data row5 col22\" >1.000000</td>\n",
       "      <td id=\"T_cb015_row5_col23\" class=\"data row5 col23\" >182.000000</td>\n",
       "      <td id=\"T_cb015_row5_col24\" class=\"data row5 col24\" >nan</td>\n",
       "      <td id=\"T_cb015_row5_col25\" class=\"data row5 col25\" >background-color: #90EE90</td>\n",
       "    </tr>\n",
       "    <tr>\n",
       "      <th id=\"T_cb015_level0_row6\" class=\"row_heading level0 row6\" >6</th>\n",
       "      <td id=\"T_cb015_row6_col0\" class=\"data row6 col0\" >11796040</td>\n",
       "      <td id=\"T_cb015_row6_col1\" class=\"data row6 col1\" >Newly Renovate 2 Bedroom Apartment in Central Area</td>\n",
       "      <td id=\"T_cb015_row6_col2\" class=\"data row6 col2\" >93276365126</td>\n",
       "      <td id=\"T_cb015_row6_col3\" class=\"data row6 col3\" >verified</td>\n",
       "      <td id=\"T_cb015_row6_col4\" class=\"data row6 col4\" >(Mary) Haiy</td>\n",
       "      <td id=\"T_cb015_row6_col5\" class=\"data row6 col5\" >Brooklyn</td>\n",
       "      <td id=\"T_cb015_row6_col6\" class=\"data row6 col6\" >Bay Ridge</td>\n",
       "      <td id=\"T_cb015_row6_col7\" class=\"data row6 col7\" >40.634610</td>\n",
       "      <td id=\"T_cb015_row6_col8\" class=\"data row6 col8\" >-74.024510</td>\n",
       "      <td id=\"T_cb015_row6_col9\" class=\"data row6 col9\" >United States</td>\n",
       "      <td id=\"T_cb015_row6_col10\" class=\"data row6 col10\" >US</td>\n",
       "      <td id=\"T_cb015_row6_col11\" class=\"data row6 col11\" >True</td>\n",
       "      <td id=\"T_cb015_row6_col12\" class=\"data row6 col12\" >moderate</td>\n",
       "      <td id=\"T_cb015_row6_col13\" class=\"data row6 col13\" >Entire home/apt</td>\n",
       "      <td id=\"T_cb015_row6_col14\" class=\"data row6 col14\" >2018.000000</td>\n",
       "      <td id=\"T_cb015_row6_col15\" class=\"data row6 col15\" >465.000000</td>\n",
       "      <td id=\"T_cb015_row6_col16\" class=\"data row6 col16\" >$93 </td>\n",
       "      <td id=\"T_cb015_row6_col17\" class=\"data row6 col17\" >1.000000</td>\n",
       "      <td id=\"T_cb015_row6_col18\" class=\"data row6 col18\" >188.000000</td>\n",
       "      <td id=\"T_cb015_row6_col19\" class=\"data row6 col19\" >6/24/2019</td>\n",
       "      <td id=\"T_cb015_row6_col20\" class=\"data row6 col20\" >5.810000</td>\n",
       "      <td id=\"T_cb015_row6_col21\" class=\"data row6 col21\" >2.000000</td>\n",
       "      <td id=\"T_cb015_row6_col22\" class=\"data row6 col22\" >1.000000</td>\n",
       "      <td id=\"T_cb015_row6_col23\" class=\"data row6 col23\" >295.000000</td>\n",
       "      <td id=\"T_cb015_row6_col24\" class=\"data row6 col24\" >nan</td>\n",
       "      <td id=\"T_cb015_row6_col25\" class=\"data row6 col25\" >background-color: #CCFFCC</td>\n",
       "    </tr>\n",
       "    <tr>\n",
       "      <th id=\"T_cb015_level0_row7\" class=\"row_heading level0 row7\" >7</th>\n",
       "      <td id=\"T_cb015_row7_col0\" class=\"data row7 col0\" >43367717</td>\n",
       "      <td id=\"T_cb015_row7_col1\" class=\"data row7 col1\" >Newly Renovate 2 Bedroom Apartment in Central Area</td>\n",
       "      <td id=\"T_cb015_row7_col2\" class=\"data row7 col2\" >97706575002</td>\n",
       "      <td id=\"T_cb015_row7_col3\" class=\"data row7 col3\" >unconfirmed</td>\n",
       "      <td id=\"T_cb015_row7_col4\" class=\"data row7 col4\" >(Mary) Haiy</td>\n",
       "      <td id=\"T_cb015_row7_col5\" class=\"data row7 col5\" >Brooklyn</td>\n",
       "      <td id=\"T_cb015_row7_col6\" class=\"data row7 col6\" >Bay Ridge</td>\n",
       "      <td id=\"T_cb015_row7_col7\" class=\"data row7 col7\" >40.634610</td>\n",
       "      <td id=\"T_cb015_row7_col8\" class=\"data row7 col8\" >-74.024510</td>\n",
       "      <td id=\"T_cb015_row7_col9\" class=\"data row7 col9\" >United States</td>\n",
       "      <td id=\"T_cb015_row7_col10\" class=\"data row7 col10\" >US</td>\n",
       "      <td id=\"T_cb015_row7_col11\" class=\"data row7 col11\" >True</td>\n",
       "      <td id=\"T_cb015_row7_col12\" class=\"data row7 col12\" >flexible</td>\n",
       "      <td id=\"T_cb015_row7_col13\" class=\"data row7 col13\" >Entire home/apt</td>\n",
       "      <td id=\"T_cb015_row7_col14\" class=\"data row7 col14\" >2018.000000</td>\n",
       "      <td id=\"T_cb015_row7_col15\" class=\"data row7 col15\" >465.000000</td>\n",
       "      <td id=\"T_cb015_row7_col16\" class=\"data row7 col16\" >$93 </td>\n",
       "      <td id=\"T_cb015_row7_col17\" class=\"data row7 col17\" >1.000000</td>\n",
       "      <td id=\"T_cb015_row7_col18\" class=\"data row7 col18\" >188.000000</td>\n",
       "      <td id=\"T_cb015_row7_col19\" class=\"data row7 col19\" >6/24/2019</td>\n",
       "      <td id=\"T_cb015_row7_col20\" class=\"data row7 col20\" >5.810000</td>\n",
       "      <td id=\"T_cb015_row7_col21\" class=\"data row7 col21\" >2.000000</td>\n",
       "      <td id=\"T_cb015_row7_col22\" class=\"data row7 col22\" >1.000000</td>\n",
       "      <td id=\"T_cb015_row7_col23\" class=\"data row7 col23\" >295.000000</td>\n",
       "      <td id=\"T_cb015_row7_col24\" class=\"data row7 col24\" >nan</td>\n",
       "      <td id=\"T_cb015_row7_col25\" class=\"data row7 col25\" >background-color: #CCFFCC</td>\n",
       "    </tr>\n",
       "    <tr>\n",
       "      <th id=\"T_cb015_level0_row8\" class=\"row_heading level0 row8\" >8</th>\n",
       "      <td id=\"T_cb015_row8_col0\" class=\"data row8 col0\" >50358730</td>\n",
       "      <td id=\"T_cb015_row8_col1\" class=\"data row8 col1\" >Newly Renovate 2 Bedroom Apartment in Central Area</td>\n",
       "      <td id=\"T_cb015_row8_col2\" class=\"data row8 col2\" >8771779200</td>\n",
       "      <td id=\"T_cb015_row8_col3\" class=\"data row8 col3\" >unconfirmed</td>\n",
       "      <td id=\"T_cb015_row8_col4\" class=\"data row8 col4\" >(Mary) Haiy</td>\n",
       "      <td id=\"T_cb015_row8_col5\" class=\"data row8 col5\" >Brooklyn</td>\n",
       "      <td id=\"T_cb015_row8_col6\" class=\"data row8 col6\" >Bay Ridge</td>\n",
       "      <td id=\"T_cb015_row8_col7\" class=\"data row8 col7\" >40.634610</td>\n",
       "      <td id=\"T_cb015_row8_col8\" class=\"data row8 col8\" >-74.024510</td>\n",
       "      <td id=\"T_cb015_row8_col9\" class=\"data row8 col9\" >United States</td>\n",
       "      <td id=\"T_cb015_row8_col10\" class=\"data row8 col10\" >US</td>\n",
       "      <td id=\"T_cb015_row8_col11\" class=\"data row8 col11\" >True</td>\n",
       "      <td id=\"T_cb015_row8_col12\" class=\"data row8 col12\" >strict</td>\n",
       "      <td id=\"T_cb015_row8_col13\" class=\"data row8 col13\" >Entire home/apt</td>\n",
       "      <td id=\"T_cb015_row8_col14\" class=\"data row8 col14\" >2018.000000</td>\n",
       "      <td id=\"T_cb015_row8_col15\" class=\"data row8 col15\" >465.000000</td>\n",
       "      <td id=\"T_cb015_row8_col16\" class=\"data row8 col16\" >$93 </td>\n",
       "      <td id=\"T_cb015_row8_col17\" class=\"data row8 col17\" >1.000000</td>\n",
       "      <td id=\"T_cb015_row8_col18\" class=\"data row8 col18\" >188.000000</td>\n",
       "      <td id=\"T_cb015_row8_col19\" class=\"data row8 col19\" >6/24/2019</td>\n",
       "      <td id=\"T_cb015_row8_col20\" class=\"data row8 col20\" >5.810000</td>\n",
       "      <td id=\"T_cb015_row8_col21\" class=\"data row8 col21\" >2.000000</td>\n",
       "      <td id=\"T_cb015_row8_col22\" class=\"data row8 col22\" >1.000000</td>\n",
       "      <td id=\"T_cb015_row8_col23\" class=\"data row8 col23\" >295.000000</td>\n",
       "      <td id=\"T_cb015_row8_col24\" class=\"data row8 col24\" >nan</td>\n",
       "      <td id=\"T_cb015_row8_col25\" class=\"data row8 col25\" >background-color: #CCFFCC</td>\n",
       "    </tr>\n",
       "    <tr>\n",
       "      <th id=\"T_cb015_level0_row9\" class=\"row_heading level0 row9\" >9</th>\n",
       "      <td id=\"T_cb015_row9_col0\" class=\"data row9 col0\" >56028090</td>\n",
       "      <td id=\"T_cb015_row9_col1\" class=\"data row9 col1\" >Newly Renovate 2 Bedroom Apartment in Central Area</td>\n",
       "      <td id=\"T_cb015_row9_col2\" class=\"data row9 col2\" >11521662908</td>\n",
       "      <td id=\"T_cb015_row9_col3\" class=\"data row9 col3\" >verified</td>\n",
       "      <td id=\"T_cb015_row9_col4\" class=\"data row9 col4\" >(Mary) Haiy</td>\n",
       "      <td id=\"T_cb015_row9_col5\" class=\"data row9 col5\" >Brooklyn</td>\n",
       "      <td id=\"T_cb015_row9_col6\" class=\"data row9 col6\" >Bay Ridge</td>\n",
       "      <td id=\"T_cb015_row9_col7\" class=\"data row9 col7\" >40.634610</td>\n",
       "      <td id=\"T_cb015_row9_col8\" class=\"data row9 col8\" >-74.024510</td>\n",
       "      <td id=\"T_cb015_row9_col9\" class=\"data row9 col9\" >United States</td>\n",
       "      <td id=\"T_cb015_row9_col10\" class=\"data row9 col10\" >US</td>\n",
       "      <td id=\"T_cb015_row9_col11\" class=\"data row9 col11\" >True</td>\n",
       "      <td id=\"T_cb015_row9_col12\" class=\"data row9 col12\" >moderate</td>\n",
       "      <td id=\"T_cb015_row9_col13\" class=\"data row9 col13\" >Entire home/apt</td>\n",
       "      <td id=\"T_cb015_row9_col14\" class=\"data row9 col14\" >2018.000000</td>\n",
       "      <td id=\"T_cb015_row9_col15\" class=\"data row9 col15\" >465.000000</td>\n",
       "      <td id=\"T_cb015_row9_col16\" class=\"data row9 col16\" >$93 </td>\n",
       "      <td id=\"T_cb015_row9_col17\" class=\"data row9 col17\" >1.000000</td>\n",
       "      <td id=\"T_cb015_row9_col18\" class=\"data row9 col18\" >188.000000</td>\n",
       "      <td id=\"T_cb015_row9_col19\" class=\"data row9 col19\" >6/24/2019</td>\n",
       "      <td id=\"T_cb015_row9_col20\" class=\"data row9 col20\" >5.810000</td>\n",
       "      <td id=\"T_cb015_row9_col21\" class=\"data row9 col21\" >2.000000</td>\n",
       "      <td id=\"T_cb015_row9_col22\" class=\"data row9 col22\" >1.000000</td>\n",
       "      <td id=\"T_cb015_row9_col23\" class=\"data row9 col23\" >295.000000</td>\n",
       "      <td id=\"T_cb015_row9_col24\" class=\"data row9 col24\" >nan</td>\n",
       "      <td id=\"T_cb015_row9_col25\" class=\"data row9 col25\" >background-color: #CCFFCC</td>\n",
       "    </tr>\n",
       "  </tbody>\n",
       "</table>\n"
      ],
      "text/plain": [
       "<pandas.io.formats.style.Styler at 0x16822cad0>"
      ]
     },
     "execution_count": 27,
     "metadata": {},
     "output_type": "execute_result"
    }
   ],
   "source": [
    "listing_duplicated = df1.loc[df1.duplicated(subset=['host_name', 'lat', 'long', 'price'], keep=False)]\n",
    "listing_duplicated_sorted = listing_duplicated.sort_values(by=['host_name','lat', 'long', 'price'])\n",
    "\n",
    "# Create a dictionary to store the groups\n",
    "group_dict = {}\n",
    "for name, group in listing_duplicated_sorted.groupby(['host_name', 'lat', 'long', 'price']):\n",
    "    group_dict[name] = group\n",
    "\n",
    "# Create a list to store DataFrames with style information\n",
    "rows = []\n",
    "for i, (name, group) in enumerate(group_dict.items()):\n",
    "    # Alternate between green and light green\n",
    "    color = 'background-color: #90EE90' if i % 2 == 0 else 'background-color: #CCFFCC'  \n",
    "    # Add a new column with the style information\n",
    "    group = group.copy()\n",
    "    group['style'] = color\n",
    "    rows.append(group)\n",
    "\n",
    "# Concatenate all groups\n",
    "listing_duplicated_data = pd.concat(rows, ignore_index=True)\n",
    "\n",
    "# Apply styling when displaying the DataFrame\n",
    "def highlight_rows(row):\n",
    "    return [row['style']] * len(row)\n",
    "\n",
    "# Display the styled DataFrame\n",
    "listing_duplicated_data.head(10).style.apply(highlight_rows, axis=1)"
   ]
  },
  {
   "cell_type": "code",
   "execution_count": 29,
   "id": "0aed5662-4766-4a8a-b743-ca4b319651cd",
   "metadata": {},
   "outputs": [
    {
     "data": {
      "text/html": [
       "<div>\n",
       "<style scoped>\n",
       "    .dataframe tbody tr th:only-of-type {\n",
       "        vertical-align: middle;\n",
       "    }\n",
       "\n",
       "    .dataframe tbody tr th {\n",
       "        vertical-align: top;\n",
       "    }\n",
       "\n",
       "    .dataframe thead th {\n",
       "        text-align: right;\n",
       "    }\n",
       "</style>\n",
       "<table border=\"1\" class=\"dataframe\">\n",
       "  <thead>\n",
       "    <tr style=\"text-align: right;\">\n",
       "      <th></th>\n",
       "      <th>id</th>\n",
       "      <th>NAME</th>\n",
       "      <th>host_id</th>\n",
       "      <th>host_identity_verified</th>\n",
       "      <th>host_name</th>\n",
       "      <th>neighbourhood_group</th>\n",
       "      <th>neighbourhood</th>\n",
       "      <th>lat</th>\n",
       "      <th>long</th>\n",
       "      <th>country</th>\n",
       "      <th>...</th>\n",
       "      <th>price</th>\n",
       "      <th>service_fee</th>\n",
       "      <th>minimum_nights</th>\n",
       "      <th>number_of_reviews</th>\n",
       "      <th>last_review</th>\n",
       "      <th>reviews_per_month</th>\n",
       "      <th>review_rate_number</th>\n",
       "      <th>calculated_host_listings_count</th>\n",
       "      <th>availability_365</th>\n",
       "      <th>house_rules</th>\n",
       "    </tr>\n",
       "  </thead>\n",
       "  <tbody>\n",
       "    <tr>\n",
       "      <th>19545</th>\n",
       "      <td>11796040</td>\n",
       "      <td>Newly Renovate 2 Bedroom Apartment in Central ...</td>\n",
       "      <td>93276365126</td>\n",
       "      <td>verified</td>\n",
       "      <td>(Mary) Haiy</td>\n",
       "      <td>Brooklyn</td>\n",
       "      <td>Bay Ridge</td>\n",
       "      <td>40.63461</td>\n",
       "      <td>-74.02451</td>\n",
       "      <td>United States</td>\n",
       "      <td>...</td>\n",
       "      <td>465.0</td>\n",
       "      <td>$93</td>\n",
       "      <td>1.0</td>\n",
       "      <td>188.0</td>\n",
       "      <td>6/24/2019</td>\n",
       "      <td>5.81</td>\n",
       "      <td>2.0</td>\n",
       "      <td>1.0</td>\n",
       "      <td>295.0</td>\n",
       "      <td>NaN</td>\n",
       "    </tr>\n",
       "  </tbody>\n",
       "</table>\n",
       "<p>1 rows × 25 columns</p>\n",
       "</div>"
      ],
      "text/plain": [
       "             id                                               NAME  \\\n",
       "19545  11796040  Newly Renovate 2 Bedroom Apartment in Central ...   \n",
       "\n",
       "           host_id host_identity_verified    host_name neighbourhood_group  \\\n",
       "19545  93276365126               verified  (Mary) Haiy            Brooklyn   \n",
       "\n",
       "      neighbourhood       lat      long        country  ...  price  \\\n",
       "19545     Bay Ridge  40.63461 -74.02451  United States  ...  465.0   \n",
       "\n",
       "      service_fee minimum_nights number_of_reviews  last_review  \\\n",
       "19545        $93             1.0             188.0    6/24/2019   \n",
       "\n",
       "       reviews_per_month review_rate_number  calculated_host_listings_count  \\\n",
       "19545               5.81                2.0                             1.0   \n",
       "\n",
       "       availability_365 house_rules  \n",
       "19545             295.0         NaN  \n",
       "\n",
       "[1 rows x 25 columns]"
      ]
     },
     "execution_count": 29,
     "metadata": {},
     "output_type": "execute_result"
    }
   ],
   "source": [
    "duplicated = df1.loc[(df1['id']==11796040) |(df1['id']==50358730)]\n",
    "duplicated"
   ]
  },
  {
   "cell_type": "code",
   "execution_count": 28,
   "id": "5f1df372-063d-4358-8b81-ddc2c7289af9",
   "metadata": {},
   "outputs": [],
   "source": [
    "\n",
    "df1.drop_duplicates(subset=['host_name', 'lat', 'long', 'price'], inplace=True)"
   ]
  },
  {
   "cell_type": "code",
   "execution_count": 111,
   "id": "f1180948-8876-405e-bab8-fa53ed4c76a4",
   "metadata": {},
   "outputs": [],
   "source": [
    "#df1.dropna(subset='price' , inplace=True)"
   ]
  },
  {
   "cell_type": "code",
   "execution_count": 37,
   "id": "0e80cf59-811e-4bf5-b5f6-106830e6c088",
   "metadata": {},
   "outputs": [
    {
     "data": {
      "text/plain": [
       "np.int64(29)"
      ]
     },
     "execution_count": 37,
     "metadata": {},
     "output_type": "execute_result"
    }
   ],
   "source": [
    "df1['neighbourhood_group'].isna().sum()"
   ]
  },
  {
   "cell_type": "markdown",
   "id": "16e3a929",
   "metadata": {},
   "source": [
    " <table style=\"color:black; background-color:#AFE1AF; font-size:20px; font-family:'SourceCodePro';\">\n",
    "  <tr>\n",
    "    <th>Task</th>\n",
    "    <th >Description</th>\n",
    "  </tr>\n",
    "  <tr>\n",
    "    <td >Impute</td>\n",
    "    <td>Utilize geopy to impute the neighborhood and neighborhood group based on provided latitude and longitude coordinates.</td>\n",
    "  </tr>\n",
    "</table>\n"
   ]
  },
  {
   "cell_type": "code",
   "execution_count": 39,
   "id": "1cf8a3a9-5cab-498e-bae9-3042caa36473",
   "metadata": {},
   "outputs": [
    {
     "data": {
      "text/plain": [
       "Location(New Farm, Greater Brisbane, Queensland, 4005, Australia, (-27.466589, 153.04693631358884, 0.0))"
      ]
     },
     "execution_count": 39,
     "metadata": {},
     "output_type": "execute_result"
    }
   ],
   "source": [
    "#!pip install geopy\n",
    "#try it out \n",
    "from geopy.geocoders import Nominatim\n",
    "geolocator = Nominatim(user_agent=\"MyApp\")\n",
    "\n",
    "# Check sample location\n",
    "location = geolocator.geocode(\"New Farm\")\n",
    "location"
   ]
  },
  {
   "cell_type": "code",
   "execution_count": 40,
   "id": "8a2bc481-543a-4205-82f1-d9b54e7c68af",
   "metadata": {},
   "outputs": [],
   "source": [
    "# \n",
    "def loc_from_cord(lat, lng):\n",
    "    try:\n",
    "        location = geolocator.reverse(f\"{lat}, {lng}\", timeout=30)\n",
    "        return location.raw['address'].get('road', '')\n",
    "    except Exception as e:\n",
    "        print(f\"the error is {e}\")\n",
    "        return 'unknown'"
   ]
  },
  {
   "cell_type": "code",
   "execution_count": null,
   "id": "8872b0e7-0a9b-48fb-aa58-654fb806ad4a",
   "metadata": {},
   "outputs": [],
   "source": [
    "# idx = df1[df1['neighbourhood'].isna()].index\n",
    "# df1.loc[idx, 'neighbourhood'] = df1.loc[idx].apply(lambda x:loc_from_cord(x.lat, x.long), axis=1)\n",
    "df1.loc[df1['neighbourhood'].isna(), 'neighbourhood'] = df1.loc[df1['neighbourhood'].isna()].apply(lambda x:loc_from_cord(x.lat, x.long),axis=1)"
   ]
  },
  {
   "cell_type": "code",
   "execution_count": 46,
   "id": "03e5980e-6d0b-4989-b826-78da8fc47e8a",
   "metadata": {},
   "outputs": [
    {
     "data": {
      "text/plain": [
       "np.int64(29)"
      ]
     },
     "execution_count": 46,
     "metadata": {},
     "output_type": "execute_result"
    }
   ],
   "source": [
    "df1['neighbourhood_group'].isna().sum()"
   ]
  },
  {
   "cell_type": "code",
   "execution_count": 49,
   "id": "945649d9-06be-49b5-9763-cf2284851e08",
   "metadata": {},
   "outputs": [],
   "source": [
    "def borough_from_coord(lat, long):\n",
    "    location = geolocator.reverse(f\"{lat}, {long}\", timeout=20)\n",
    "    return location.raw['address'].get('borough', ',')\n",
    "\n"
   ]
  },
  {
   "cell_type": "code",
   "execution_count": 50,
   "id": "dadf86cd-835d-4ac0-a37a-d106ee83e8cb",
   "metadata": {},
   "outputs": [],
   "source": [
    "idx = df1[df1['neighbourhood_group'].isnull()].index"
   ]
  },
  {
   "cell_type": "code",
   "execution_count": 51,
   "id": "4ac5d356-8058-4d89-bb6e-7d17339b1d37",
   "metadata": {},
   "outputs": [],
   "source": [
    "## impute  the neighbourdhood_group with finding borough based on lat, long\n",
    "df1.loc[idx, 'neighbourhood_group'] = df.loc[idx].apply(lambda x:borough_from_coord(x.lat, x.long), axis=1)"
   ]
  },
  {
   "cell_type": "code",
   "execution_count": 88,
   "id": "483792ce-c1c8-463c-a527-4cbce0323611",
   "metadata": {},
   "outputs": [
    {
     "data": {
      "text/plain": [
       "Index([779, 785, 799, 814, 843, 885, 926, 986], dtype='int64')"
      ]
     },
     "execution_count": 88,
     "metadata": {},
     "output_type": "execute_result"
    }
   ],
   "source": [
    "# \n",
    "lat_null_index = df[df.long.isnull()].index\n",
    "lat_null_index"
   ]
  },
  {
   "cell_type": "code",
   "execution_count": 100,
   "id": "2d1e891e-ad3b-49a0-9b3c-2ff6367c06ff",
   "metadata": {},
   "outputs": [],
   "source": [
    "\"\"\"\n",
    "    This function is used for imputing latitude and longitude.Get the geographical coordinates (latitude and longitude) for a given location.\n",
    "\"\"\"\n",
    "def get_coordinates(loc):\n",
    "    location = geolocator.geocode(loc, timeout=30)\n",
    "    if pd.isnull(lat) or pd.isnull(long):\n",
    "        return None, None\n",
    "    if location:\n",
    "        return location.latitude, location.longitude\n",
    "    return None, None\n"
   ]
  },
  {
   "cell_type": "code",
   "execution_count": 99,
   "id": "7d0b902b",
   "metadata": {},
   "outputs": [
    {
     "data": {
      "text/plain": [
       "(-27.466589, 153.04693631358884)"
      ]
     },
     "execution_count": 99,
     "metadata": {},
     "output_type": "execute_result"
    }
   ],
   "source": [
    "get_coordinates(f\"New Farm,Greater Brisbane\")"
   ]
  },
  {
   "cell_type": "code",
   "execution_count": null,
   "id": "d44405f1",
   "metadata": {},
   "outputs": [],
   "source": [
    "for idx in lat_null_index:\n",
    "    location_str = f\"{df1.loc[idx,'neighbourhood']}, {df1.loc[idx,'neighbourhood_group']}\"\n",
    "    lat, long = get_coordinates(location_str)\n",
    "    df1.loc[idx,'lat'] =lat\n",
    "    df1.loc[idx,'long']=long\n",
    "\n",
    "#df1.loc[idx, 'long'] = df1.loc[idx].apply(lambda x:long_from_loc(f\"{x['neighbourhood']}, {x['neighbourhood_group']}\"),axis=1)"
   ]
  },
  {
   "cell_type": "code",
   "execution_count": 97,
   "id": "e917a67b-1cca-493b-949f-f033957df19a",
   "metadata": {},
   "outputs": [
    {
     "data": {
      "text/plain": [
       "house_rules                       36645\n",
       "last_review                       10828\n",
       "reviews_per_month                 10814\n",
       "availability_365                    438\n",
       "minimum_nights                      363\n",
       "country                             323\n",
       "host_name                           313\n",
       "price                               245\n",
       "service_fee                         241\n",
       "review_rate_number                  239\n",
       "host_identity_verified              217\n",
       "NAME                                208\n",
       "Construction_year                   190\n",
       "number_of_reviews                   152\n",
       "calculated_host_listings_count      144\n",
       "instant_bookable                     86\n",
       "country_code                         86\n",
       "cancellation_policy                  57\n",
       "lat                                   0\n",
       "long                                  0\n",
       "neighbourhood_group                   0\n",
       "host_id                               0\n",
       "id                                    0\n",
       "neighbourhood                         0\n",
       "room_type                             0\n",
       "dtype: int64"
      ]
     },
     "execution_count": 97,
     "metadata": {},
     "output_type": "execute_result"
    }
   ],
   "source": [
    "df1.isna().sum().sort_values(ascending=False)"
   ]
  },
  {
   "cell_type": "code",
   "execution_count": 109,
   "id": "c3a1833c",
   "metadata": {},
   "outputs": [
    {
     "data": {
      "image/png": "[encoded data removed]",
      "text/plain": [
       "<Figure size 1000x600 with 1 Axes>"
      ]
     },
     "metadata": {},
     "output_type": "display_data"
    }
   ],
   "source": [
    "import numpy as np\n",
    "import matplotlib.pyplot as plt\n",
    "import seaborn as sns\n",
    "\n",
    "# Plotting the boxplot with the transformed data\n",
    "fig, ax1 = plt.subplots(figsize=(10, 6))\n",
    "sns.boxplot(data=df1, y=np.sqrt(df1['reviews_per_month']), ax=ax1)\n",
    "\n",
    "# Show the plot\n",
    "plt.show()\n"
   ]
  },
  {
   "cell_type": "code",
   "execution_count": 95,
   "id": "642c43a2-be5a-4775-ac1a-05b3eb6164da",
   "metadata": {},
   "outputs": [
    {
     "data": {
      "image/png": "[encoded data removed]",
      "text/plain": [
       "<Figure size 640x480 with 1 Axes>"
      ]
     },
     "metadata": {},
     "output_type": "display_data"
    }
   ],
   "source": [
    "sns.boxplot(data=df1, y='availability_365')\n",
    "plt.show()  "
   ]
  },
  {
   "cell_type": "code",
   "execution_count": 106,
   "id": "d8561c67-afd4-4882-9f4b-c1c286f899e5",
   "metadata": {},
   "outputs": [],
   "source": [
    "df1['last_review'] = pd.to_datetime(df1['last_review'])"
   ]
  },
  {
   "cell_type": "code",
   "execution_count": 146,
   "id": "66c96e30-a0bb-4e3f-9e26-cfe90a18ecc6",
   "metadata": {},
   "outputs": [
    {
     "data": {
      "text/plain": [
       "0   2021-10-19\n",
       "1   2022-05-21\n",
       "2          NaT\n",
       "3   2019-07-05\n",
       "4   2018-11-19\n",
       "Name: last_review, dtype: datetime64[ns]"
      ]
     },
     "execution_count": 146,
     "metadata": {},
     "output_type": "execute_result"
    }
   ],
   "source": [
    "df1['last_review'].head()"
   ]
  },
  {
   "cell_type": "code",
   "execution_count": 111,
   "id": "7dda3e2d-869f-45a8-a3e5-96caa21a810f",
   "metadata": {},
   "outputs": [
    {
     "data": {
      "text/plain": [
       "(Timestamp('2012-07-11 00:00:00'),\n",
       " Timestamp('2019-06-23 00:00:00'),\n",
       " Timestamp('2058-06-16 00:00:00'))"
      ]
     },
     "execution_count": 111,
     "metadata": {},
     "output_type": "execute_result"
    }
   ],
   "source": [
    "df1['last_review'] = pd.to_datetime(df1['last_review'])\n",
    "df1['last_review'].min(), df1['last_review'].median(), df1['last_review'].max()"
   ]
  },
  {
   "cell_type": "code",
   "execution_count": 140,
   "id": "7b9e58ef",
   "metadata": {},
   "outputs": [
    {
     "name": "stdout",
     "output_type": "stream",
     "text": [
      "<class 'pandas.core.frame.DataFrame'>\n",
      "Index: 69305 entries, 0 to 102050\n",
      "Data columns (total 26 columns):\n",
      " #   Column                          Non-Null Count  Dtype         \n",
      "---  ------                          --------------  -----         \n",
      " 0   id                              69305 non-null  int64         \n",
      " 1   NAME                            69097 non-null  object        \n",
      " 2   host_id                         69305 non-null  int64         \n",
      " 3   host_identity_verified          69088 non-null  object        \n",
      " 4   host_name                       68992 non-null  object        \n",
      " 5   neighbourhood_group             69305 non-null  object        \n",
      " 6   neighbourhood                   69305 non-null  object        \n",
      " 7   lat                             69305 non-null  float64       \n",
      " 8   long                            69305 non-null  float64       \n",
      " 9   country                         68982 non-null  object        \n",
      " 10  country_code                    69219 non-null  object        \n",
      " 11  instant_bookable                69219 non-null  object        \n",
      " 12  cancellation_policy             69248 non-null  object        \n",
      " 13  room_type                       69305 non-null  object        \n",
      " 14  Construction_year               69115 non-null  float64       \n",
      " 15  price                           69060 non-null  float64       \n",
      " 16  service_fee                     69064 non-null  object        \n",
      " 17  minimum_nights                  68942 non-null  float64       \n",
      " 18  number_of_reviews               69153 non-null  float64       \n",
      " 19  last_review                     58477 non-null  datetime64[ns]\n",
      " 20  reviews_per_month               58491 non-null  float64       \n",
      " 21  review_rate_number              69066 non-null  float64       \n",
      " 22  calculated_host_listings_count  69161 non-null  float64       \n",
      " 23  availability_365                68867 non-null  float64       \n",
      " 24  house_rules                     32660 non-null  object        \n",
      " 25  days_since_last_review          58477 non-null  float64       \n",
      "dtypes: datetime64[ns](1), float64(11), int64(2), object(12)\n",
      "memory usage: 16.3+ MB\n"
     ]
    }
   ],
   "source": [
    "df1.info()"
   ]
  },
  {
   "cell_type": "code",
   "execution_count": 143,
   "id": "36335cce",
   "metadata": {},
   "outputs": [
    {
     "name": "stderr",
     "output_type": "stream",
     "text": [
      "/Users/saeedazad/miniconda3/envs/airbnb_venv/lib/python3.13/site-packages/seaborn/_oldcore.py:1119: FutureWarning: use_inf_as_na option is deprecated and will be removed in a future version. Convert inf values to NaN before operating instead.\n",
      "  with pd.option_context('mode.use_inf_as_na', True):\n",
      "/Users/saeedazad/miniconda3/envs/airbnb_venv/lib/python3.13/site-packages/seaborn/_oldcore.py:1119: FutureWarning: use_inf_as_na option is deprecated and will be removed in a future version. Convert inf values to NaN before operating instead.\n",
      "  with pd.option_context('mode.use_inf_as_na', True):\n"
     ]
    },
    {
     "data": {
      "image/png": "[encoded data removed]",
      "text/plain": [
       "<Figure size 640x480 with 1 Axes>"
      ]
     },
     "metadata": {},
     "output_type": "display_data"
    }
   ],
   "source": [
    "sns.lineplot(data=df1, x='last_review', y='number_of_reviews')\n",
    "plt.show()"
   ]
  },
  {
   "cell_type": "code",
   "execution_count": 147,
   "id": "6edee2ab",
   "metadata": {},
   "outputs": [
    {
     "name": "stderr",
     "output_type": "stream",
     "text": [
      "/Users/saeedazad/miniconda3/envs/airbnb_venv/lib/python3.13/site-packages/seaborn/_oldcore.py:1119: FutureWarning: use_inf_as_na option is deprecated and will be removed in a future version. Convert inf values to NaN before operating instead.\n",
      "  with pd.option_context('mode.use_inf_as_na', True):\n"
     ]
    },
    {
     "data": {
      "image/png": "[encoded data removed]",
      "text/plain": [
       "<Figure size 640x480 with 1 Axes>"
      ]
     },
     "metadata": {},
     "output_type": "display_data"
    }
   ],
   "source": [
    "sns.histplot(df1['last_review'].dt.month, bins=12, kde=False)\n",
    "plt.title(\"Distribution of Last review per Month\")\n",
    "plt.show()"
   ]
  },
  {
   "cell_type": "code",
   "execution_count": 148,
   "id": "f2a30a05-bc74-4e06-a34f-4bec9f7c5c53",
   "metadata": {},
   "outputs": [],
   "source": [
    "#Replace null value with median last_review \n",
    "df1.loc[df1['last_review'].isnull(), 'last_review']= df1['last_review'].median()"
   ]
  },
  {
   "cell_type": "code",
   "execution_count": 111,
   "id": "d8820e9b-94bd-40a9-bbda-84475a70544e",
   "metadata": {},
   "outputs": [],
   "source": [
    "# do the same thing for reviews_per_month\n",
    "\n",
    "df1.loc[df1['reviews_per_month'].isnull(), 'reviews_per_month']=df1['reviews_per_month'].median()"
   ]
  },
  {
   "cell_type": "code",
   "execution_count": 198,
   "id": "29806b30-8b47-49f3-a216-1b58e7595684",
   "metadata": {},
   "outputs": [],
   "source": [
    "from geopy.geocoders import Nominatim\n",
    "from geopy.exc import GeocoderTimedOut, GeocoderServiceError\n",
    "\n",
    "def loc_from_coord(lat, long):\n",
    "    try:\n",
    "        location = geolocator.reverse(f\"{lat},{long}\", timeout=10)\n",
    "        print(location.raw)  # Debug information\n",
    "        if location and 'address' in location.raw:\n",
    "            address = location.raw['address']\n",
    "            # Attempt to retrieve a more granular location if 'suburb' is not available\n",
    "            return address.get('borough', address.get('city', address.get('town', address.get('village', 'Unknown'))))\n",
    "        else:\n",
    "            return 'Unknown'\n",
    "    except (GeocoderTimedOut, GeocoderServiceError) as e:\n",
    "        print(f\"Error: {e}\")\n",
    "        return 'Error'\n"
   ]
  },
  {
   "cell_type": "code",
   "execution_count": null,
   "id": "ecad4a6c-e6c2-4a86-80fe-9800e48b4e31",
   "metadata": {},
   "outputs": [],
   "source": [
    "print(loc_from_coord(40.72828, -73.98801))"
   ]
  },
  {
   "cell_type": "code",
   "execution_count": 62,
   "id": "8f3f9ace-2eb5-4d1f-9c5d-93ec775aef57",
   "metadata": {},
   "outputs": [
    {
     "name": "stdout",
     "output_type": "stream",
     "text": [
      "Brooklyn\n"
     ]
    }
   ],
   "source": [
    "print(loc_from_coord(40.68346, -73.96374))"
   ]
  },
  {
   "cell_type": "code",
   "execution_count": 150,
   "id": "3f553a6b-f91d-4468-a9e3-e32141911823",
   "metadata": {},
   "outputs": [],
   "source": [
    "''' delete column country code'''\n",
    "df1.drop('country_code', axis=1, inplace=True)"
   ]
  },
  {
   "cell_type": "code",
   "execution_count": 153,
   "id": "fcb8468b",
   "metadata": {},
   "outputs": [
    {
     "data": {
      "text/plain": [
       "np.int64(217)"
      ]
     },
     "execution_count": 153,
     "metadata": {},
     "output_type": "execute_result"
    }
   ],
   "source": [
    "df1['host_identity_verified'].isnull().sum()"
   ]
  },
  {
   "cell_type": "code",
   "execution_count": 154,
   "id": "c95dba48-059c-449b-8970-ec29f397003f",
   "metadata": {},
   "outputs": [],
   "source": [
    "# assign unconfirmed value to nan values in host_identity_verified\n",
    "df1.loc[df1['host_identity_verified'].isnull(), 'host_identity_verified']='unconfirmed'\n"
   ]
  },
  {
   "cell_type": "code",
   "execution_count": 155,
   "id": "f7b4f847-5d26-4a03-af11-2a217bb17a16",
   "metadata": {},
   "outputs": [],
   "source": [
    "df1.loc[df1['availability_365'].isnull(), 'availability_365']=df1['availability_365'].median()"
   ]
  },
  {
   "cell_type": "code",
   "execution_count": 156,
   "id": "45b78868-ce4d-4bcc-ac26-dcb8e34be23f",
   "metadata": {},
   "outputs": [],
   "source": [
    "df1.loc[df1['price'].isnull(), 'price']= df1['price'].median()"
   ]
  },
  {
   "cell_type": "code",
   "execution_count": 165,
   "id": "03642d1c",
   "metadata": {},
   "outputs": [],
   "source": [
    "# To convert $ or anyhing that is not digit or nan to '' in service fee\n",
    "df1.loc[~df1['service_fee'].isna(),'service_fee']= df1.loc[~df1['service_fee'].isna()].apply(lambda x:re.sub(r'\\D','',x['service_fee']),axis=1)"
   ]
  },
  {
   "cell_type": "code",
   "execution_count": 170,
   "id": "76c5703b",
   "metadata": {},
   "outputs": [
    {
     "data": {
      "text/plain": [
       "125"
      ]
     },
     "execution_count": 170,
     "metadata": {},
     "output_type": "execute_result"
    }
   ],
   "source": [
    "round(df1['service_fee'].median())"
   ]
  },
  {
   "cell_type": "code",
   "execution_count": 171,
   "id": "4abc7292",
   "metadata": {},
   "outputs": [],
   "source": [
    "df1['service_fee'] = pd.to_numeric(df1['service_fee'])\n",
    "df1.loc[df1['service_fee'].isna(),'service_fee'] = round(df1['service_fee'].median())"
   ]
  },
  {
   "cell_type": "code",
   "execution_count": 184,
   "id": "610c2374",
   "metadata": {},
   "outputs": [
    {
     "data": {
      "text/html": [
       "<div>\n",
       "<style scoped>\n",
       "    .dataframe tbody tr th:only-of-type {\n",
       "        vertical-align: middle;\n",
       "    }\n",
       "\n",
       "    .dataframe tbody tr th {\n",
       "        vertical-align: top;\n",
       "    }\n",
       "\n",
       "    .dataframe thead th {\n",
       "        text-align: right;\n",
       "    }\n",
       "</style>\n",
       "<table border=\"1\" class=\"dataframe\">\n",
       "  <thead>\n",
       "    <tr style=\"text-align: right;\">\n",
       "      <th></th>\n",
       "      <th>id</th>\n",
       "      <th>NAME</th>\n",
       "      <th>host_id</th>\n",
       "      <th>host_identity_verified</th>\n",
       "      <th>host_name</th>\n",
       "      <th>neighbourhood_group</th>\n",
       "      <th>neighbourhood</th>\n",
       "      <th>lat</th>\n",
       "      <th>long</th>\n",
       "      <th>country</th>\n",
       "      <th>...</th>\n",
       "      <th>service_fee</th>\n",
       "      <th>minimum_nights</th>\n",
       "      <th>number_of_reviews</th>\n",
       "      <th>last_review</th>\n",
       "      <th>reviews_per_month</th>\n",
       "      <th>review_rate_number</th>\n",
       "      <th>calculated_host_listings_count</th>\n",
       "      <th>availability_365</th>\n",
       "      <th>house_rules</th>\n",
       "      <th>days_since_last_review</th>\n",
       "    </tr>\n",
       "  </thead>\n",
       "  <tbody>\n",
       "    <tr>\n",
       "      <th>350</th>\n",
       "      <td>1194641</td>\n",
       "      <td>LARGE 1BR (CONV 2BR) CROWN HEIGHTS</td>\n",
       "      <td>66643346348</td>\n",
       "      <td>verified</td>\n",
       "      <td>Russell</td>\n",
       "      <td>Brooklyn</td>\n",
       "      <td>Crown Heights</td>\n",
       "      <td>40.67473</td>\n",
       "      <td>-73.94494</td>\n",
       "      <td>United States</td>\n",
       "      <td>...</td>\n",
       "      <td>228.0</td>\n",
       "      <td>3455.0</td>\n",
       "      <td>0.0</td>\n",
       "      <td>2019-06-23</td>\n",
       "      <td>NaN</td>\n",
       "      <td>1.0</td>\n",
       "      <td>1.0</td>\n",
       "      <td>127.0</td>\n",
       "      <td>NaN</td>\n",
       "      <td>NaN</td>\n",
       "    </tr>\n",
       "    <tr>\n",
       "      <th>5768</th>\n",
       "      <td>4187002</td>\n",
       "      <td>Prime W. Village location 1 bdrm</td>\n",
       "      <td>62526606377</td>\n",
       "      <td>verified</td>\n",
       "      <td>Genevieve</td>\n",
       "      <td>Manhattan</td>\n",
       "      <td>Greenwich Village</td>\n",
       "      <td>40.73293</td>\n",
       "      <td>-73.99782</td>\n",
       "      <td>United States</td>\n",
       "      <td>...</td>\n",
       "      <td>76.0</td>\n",
       "      <td>1250.0</td>\n",
       "      <td>2.0</td>\n",
       "      <td>2014-11-09</td>\n",
       "      <td>0.03</td>\n",
       "      <td>2.0</td>\n",
       "      <td>1.0</td>\n",
       "      <td>26.0</td>\n",
       "      <td>NaN</td>\n",
       "      <td>3567.0</td>\n",
       "    </tr>\n",
       "    <tr>\n",
       "      <th>42398</th>\n",
       "      <td>24417751</td>\n",
       "      <td>Bedroom in Prime Bushwick</td>\n",
       "      <td>29378706293</td>\n",
       "      <td>verified</td>\n",
       "      <td>Elena</td>\n",
       "      <td>Brooklyn</td>\n",
       "      <td>Bushwick</td>\n",
       "      <td>40.70235</td>\n",
       "      <td>-73.92892</td>\n",
       "      <td>United States</td>\n",
       "      <td>...</td>\n",
       "      <td>91.0</td>\n",
       "      <td>5645.0</td>\n",
       "      <td>1.0</td>\n",
       "      <td>2019-06-05</td>\n",
       "      <td>0.88</td>\n",
       "      <td>4.0</td>\n",
       "      <td>1.0</td>\n",
       "      <td>0.0</td>\n",
       "      <td>No drugs please.</td>\n",
       "      <td>1898.0</td>\n",
       "    </tr>\n",
       "    <tr>\n",
       "      <th>42407</th>\n",
       "      <td>24422722</td>\n",
       "      <td>Modern &amp; Cozy 2 BR Private Apartment in Brooklyn</td>\n",
       "      <td>83669529485</td>\n",
       "      <td>unconfirmed</td>\n",
       "      <td>Gk</td>\n",
       "      <td>Brooklyn</td>\n",
       "      <td>Bay Ridge</td>\n",
       "      <td>40.63189</td>\n",
       "      <td>-74.02322</td>\n",
       "      <td>United States</td>\n",
       "      <td>...</td>\n",
       "      <td>169.0</td>\n",
       "      <td>2645.0</td>\n",
       "      <td>14.0</td>\n",
       "      <td>2019-06-14</td>\n",
       "      <td>3.59</td>\n",
       "      <td>3.0</td>\n",
       "      <td>1.0</td>\n",
       "      <td>271.0</td>\n",
       "      <td>No smoking (indoors or outside on the property...</td>\n",
       "      <td>1889.0</td>\n",
       "    </tr>\n",
       "  </tbody>\n",
       "</table>\n",
       "<p>4 rows × 25 columns</p>\n",
       "</div>"
      ],
      "text/plain": [
       "             id                                              NAME  \\\n",
       "350     1194641                LARGE 1BR (CONV 2BR) CROWN HEIGHTS   \n",
       "5768    4187002                  Prime W. Village location 1 bdrm   \n",
       "42398  24417751                         Bedroom in Prime Bushwick   \n",
       "42407  24422722  Modern & Cozy 2 BR Private Apartment in Brooklyn   \n",
       "\n",
       "           host_id host_identity_verified  host_name neighbourhood_group  \\\n",
       "350    66643346348               verified    Russell            Brooklyn   \n",
       "5768   62526606377               verified  Genevieve           Manhattan   \n",
       "42398  29378706293               verified      Elena            Brooklyn   \n",
       "42407  83669529485            unconfirmed         Gk            Brooklyn   \n",
       "\n",
       "           neighbourhood       lat      long        country  ... service_fee  \\\n",
       "350        Crown Heights  40.67473 -73.94494  United States  ...       228.0   \n",
       "5768   Greenwich Village  40.73293 -73.99782  United States  ...        76.0   \n",
       "42398           Bushwick  40.70235 -73.92892  United States  ...        91.0   \n",
       "42407          Bay Ridge  40.63189 -74.02322  United States  ...       169.0   \n",
       "\n",
       "      minimum_nights number_of_reviews  last_review  reviews_per_month  \\\n",
       "350           3455.0               0.0   2019-06-23                NaN   \n",
       "5768          1250.0               2.0   2014-11-09               0.03   \n",
       "42398         5645.0               1.0   2019-06-05               0.88   \n",
       "42407         2645.0              14.0   2019-06-14               3.59   \n",
       "\n",
       "       review_rate_number  calculated_host_listings_count  availability_365  \\\n",
       "350                   1.0                             1.0             127.0   \n",
       "5768                  2.0                             1.0              26.0   \n",
       "42398                 4.0                             1.0               0.0   \n",
       "42407                 3.0                             1.0             271.0   \n",
       "\n",
       "                                             house_rules  \\\n",
       "350                                                  NaN   \n",
       "5768                                                 NaN   \n",
       "42398                                   No drugs please.   \n",
       "42407  No smoking (indoors or outside on the property...   \n",
       "\n",
       "       days_since_last_review  \n",
       "350                       NaN  \n",
       "5768                   3567.0  \n",
       "42398                  1898.0  \n",
       "42407                  1889.0  \n",
       "\n",
       "[4 rows x 25 columns]"
      ]
     },
     "execution_count": 184,
     "metadata": {},
     "output_type": "execute_result"
    }
   ],
   "source": [
    "df1.loc[df1['minimum_nights']>1000]"
   ]
  },
  {
   "cell_type": "markdown",
   "id": "f678722d",
   "metadata": {},
   "source": [
    "<table style=\" color:black; background-color:#48c9b0 ; font=family:'monospace';\">\n",
    "<td> Handling outliers in minimum_nights column using the IQR method</td>\n",
    "</table>"
   ]
  },
  {
   "cell_type": "code",
   "execution_count": 175,
   "id": "5cdd6ac2-68d2-44de-8e73-89e1c3ca52fd",
   "metadata": {},
   "outputs": [
    {
     "data": {
      "text/plain": [
       "(-1223.0, 5645.0)"
      ]
     },
     "execution_count": 175,
     "metadata": {},
     "output_type": "execute_result"
    }
   ],
   "source": [
    "df1.minimum_nights.min() , df1.minimum_nights.max()"
   ]
  },
  {
   "cell_type": "code",
   "execution_count": 185,
   "id": "18724d75-fdeb-468e-92fe-56a2732a0743",
   "metadata": {},
   "outputs": [
    {
     "name": "stderr",
     "output_type": "stream",
     "text": [
      "/Users/saeedazad/miniconda3/envs/airbnb_venv/lib/python3.13/site-packages/pandas/core/arraylike.py:399: RuntimeWarning: invalid value encountered in sqrt\n",
      "  result = getattr(ufunc, method)(*inputs, **kwargs)\n"
     ]
    },
    {
     "data": {
      "image/png": "[encoded data removed]",
      "text/plain": [
       "<Figure size 640x480 with 1 Axes>"
      ]
     },
     "metadata": {},
     "output_type": "display_data"
    }
   ],
   "source": [
    "sns.boxplot(data=df1, y=np.sqrt(df1['minimum_nights']))\n",
    "\n",
    "plt.show()"
   ]
  },
  {
   "cell_type": "code",
   "execution_count": 186,
   "id": "572cf620-8f08-4dd1-807c-6ee958e276cc",
   "metadata": {},
   "outputs": [
    {
     "data": {
      "text/plain": [
       "np.float64(13.5)"
      ]
     },
     "execution_count": 186,
     "metadata": {},
     "output_type": "execute_result"
    }
   ],
   "source": [
    "Q1 = df1['minimum_nights'].quantile(0.25)\n",
    "Q3 = df1['minimum_nights'].quantile(0.75)\n",
    "IQR = Q3 - Q1\n",
    "upper_bound = Q3 + 1.5 * IQR\n",
    "upper_bound"
   ]
  },
  {
   "cell_type": "code",
   "execution_count": 187,
   "id": "049311fd-ffe1-4830-a17b-c1dc3f266ae1",
   "metadata": {},
   "outputs": [],
   "source": [
    "df1['minimum_nights'].clip(lower=0, upper=round(upper_bound), inplace=True)"
   ]
  },
  {
   "cell_type": "code",
   "execution_count": 190,
   "id": "11aaeb4c-ed9d-4ad0-bfd5-f3dbf9ee776e",
   "metadata": {},
   "outputs": [
    {
     "data": {
      "text/plain": [
       "3.0"
      ]
     },
     "execution_count": 190,
     "metadata": {},
     "output_type": "execute_result"
    }
   ],
   "source": [
    "df1['minimum_nights'].median()"
   ]
  },
  {
   "cell_type": "code",
   "execution_count": 206,
   "id": "02b4bc60-d139-4e04-b195-4e05f583b910",
   "metadata": {},
   "outputs": [],
   "source": [
    "df1['minimum_nights'] = df1['minimum_nights'].fillna(df1['minimum_nights'].median())"
   ]
  },
  {
   "cell_type": "code",
   "execution_count": 193,
   "id": "dc174cda-4775-4d41-b694-0ef7cedab383",
   "metadata": {},
   "outputs": [],
   "source": [
    "df1['review_rate_number']=df1['review_rate_number'].fillna(df1['review_rate_number'].median())"
   ]
  },
  {
   "cell_type": "code",
   "execution_count": 215,
   "id": "41d3fbcf-e992-4107-8d79-afddfd8c42cc",
   "metadata": {},
   "outputs": [
    {
     "name": "stderr",
     "output_type": "stream",
     "text": [
      "/var/folders/bv/47b81dz97_52w35v_gn9825h0000gn/T/ipykernel_957/3103275824.py:1: FutureWarning: A value is trying to be set on a copy of a DataFrame or Series through chained assignment using an inplace method.\n",
      "The behavior will change in pandas 3.0. This inplace method will never work because the intermediate object on which we are setting values always behaves as a copy.\n",
      "\n",
      "For example, when doing 'df[col].method(value, inplace=True)', try using 'df.method({col: value}, inplace=True)' or df[col] = df[col].method(value) instead, to perform the operation inplace on the original object.\n",
      "\n",
      "\n",
      "  df1['Construction_year'].fillna(df1['Construction_year'].median(), inplace=True)\n"
     ]
    }
   ],
   "source": [
    "df1['Construction_year'].fillna(df1['Construction_year'].median(), inplace=True)"
   ]
  },
  {
   "cell_type": "code",
   "execution_count": 217,
   "id": "68406a64-45fd-4401-812d-024e3c52ed65",
   "metadata": {},
   "outputs": [
    {
     "name": "stderr",
     "output_type": "stream",
     "text": [
      "/var/folders/bv/47b81dz97_52w35v_gn9825h0000gn/T/ipykernel_957/2846130067.py:1: FutureWarning: A value is trying to be set on a copy of a DataFrame or Series through chained assignment using an inplace method.\n",
      "The behavior will change in pandas 3.0. This inplace method will never work because the intermediate object on which we are setting values always behaves as a copy.\n",
      "\n",
      "For example, when doing 'df[col].method(value, inplace=True)', try using 'df.method({col: value}, inplace=True)' or df[col] = df[col].method(value) instead, to perform the operation inplace on the original object.\n",
      "\n",
      "\n",
      "  df1['number_of_reviews'].fillna(df1['number_of_reviews'].median(), inplace=True)\n"
     ]
    }
   ],
   "source": [
    "df1['number_of_reviews'].fillna(df1['number_of_reviews'].median(), inplace=True)"
   ]
  },
  {
   "cell_type": "code",
   "execution_count": 218,
   "id": "2e7619b1-b29a-4bca-a4aa-83e47005cd86",
   "metadata": {},
   "outputs": [
    {
     "name": "stderr",
     "output_type": "stream",
     "text": [
      "/var/folders/bv/47b81dz97_52w35v_gn9825h0000gn/T/ipykernel_957/117120287.py:1: FutureWarning: A value is trying to be set on a copy of a DataFrame or Series through chained assignment using an inplace method.\n",
      "The behavior will change in pandas 3.0. This inplace method will never work because the intermediate object on which we are setting values always behaves as a copy.\n",
      "\n",
      "For example, when doing 'df[col].method(value, inplace=True)', try using 'df.method({col: value}, inplace=True)' or df[col] = df[col].method(value) instead, to perform the operation inplace on the original object.\n",
      "\n",
      "\n",
      "  df1['calculated_host_listings_count'].fillna(df1['calculated_host_listings_count'].median(), inplace=True)\n"
     ]
    }
   ],
   "source": [
    "df1['calculated_host_listings_count'].fillna(df1['calculated_host_listings_count'].median(), inplace=True)"
   ]
  },
  {
   "cell_type": "code",
   "execution_count": 219,
   "id": "8feb4c1f-a1ba-4b38-94f2-dc6de574a19c",
   "metadata": {},
   "outputs": [
    {
     "name": "stderr",
     "output_type": "stream",
     "text": [
      "/var/folders/bv/47b81dz97_52w35v_gn9825h0000gn/T/ipykernel_957/1972601848.py:1: FutureWarning: A value is trying to be set on a copy of a DataFrame or Series through chained assignment using an inplace method.\n",
      "The behavior will change in pandas 3.0. This inplace method will never work because the intermediate object on which we are setting values always behaves as a copy.\n",
      "\n",
      "For example, when doing 'df[col].method(value, inplace=True)', try using 'df.method({col: value}, inplace=True)' or df[col] = df[col].method(value) instead, to perform the operation inplace on the original object.\n",
      "\n",
      "\n",
      "  df1.cancellation_policy.fillna('moderate', inplace=True)\n"
     ]
    }
   ],
   "source": [
    "df1.cancellation_policy.fillna('moderate', inplace=True)"
   ]
  },
  {
   "cell_type": "code",
   "execution_count": 221,
   "id": "63f4d0c2-916d-43d5-9c43-8feca34f3d20",
   "metadata": {},
   "outputs": [
    {
     "name": "stderr",
     "output_type": "stream",
     "text": [
      "/var/folders/bv/47b81dz97_52w35v_gn9825h0000gn/T/ipykernel_957/714832131.py:1: FutureWarning: A value is trying to be set on a copy of a DataFrame or Series through chained assignment using an inplace method.\n",
      "The behavior will change in pandas 3.0. This inplace method will never work because the intermediate object on which we are setting values always behaves as a copy.\n",
      "\n",
      "For example, when doing 'df[col].method(value, inplace=True)', try using 'df.method({col: value}, inplace=True)' or df[col] = df[col].method(value) instead, to perform the operation inplace on the original object.\n",
      "\n",
      "\n",
      "  df1.instant_bookable.fillna(True, inplace=True)\n",
      "/var/folders/bv/47b81dz97_52w35v_gn9825h0000gn/T/ipykernel_957/714832131.py:1: FutureWarning: Downcasting object dtype arrays on .fillna, .ffill, .bfill is deprecated and will change in a future version. Call result.infer_objects(copy=False) instead. To opt-in to the future behavior, set `pd.set_option('future.no_silent_downcasting', True)`\n",
      "  df1.instant_bookable.fillna(True, inplace=True)\n"
     ]
    }
   ],
   "source": [
    "df1.instant_bookable.fillna(True, inplace=True)"
   ]
  },
  {
   "cell_type": "code",
   "execution_count": 222,
   "id": "584c59be-0a28-4b24-aa54-0dc183f0832c",
   "metadata": {},
   "outputs": [
    {
     "data": {
      "text/plain": [
       "id                                0\n",
       "NAME                              0\n",
       "host_id                           0\n",
       "host_identity_verified            0\n",
       "host_name                         0\n",
       "neighbourhood_group               0\n",
       "neighbourhood                     0\n",
       "lat                               0\n",
       "long                              0\n",
       "instant_bookable                  0\n",
       "cancellation_policy               0\n",
       "room_type                         0\n",
       "Construction_year                 0\n",
       "price                             0\n",
       "service_fee                       0\n",
       "minimum_nights                    0\n",
       "number_of_reviews                 0\n",
       "last_review                       0\n",
       "reviews_per_month                 0\n",
       "review_rate_number                0\n",
       "calculated_host_listings_count    0\n",
       "availability_365                  0\n",
       "house_rules                       0\n",
       "dtype: int64"
      ]
     },
     "execution_count": 222,
     "metadata": {},
     "output_type": "execute_result"
    }
   ],
   "source": [
    "df1.isna().sum().sort_values(ascending=False)"
   ]
  },
  {
   "cell_type": "markdown",
   "id": "b33b5545",
   "metadata": {},
   "source": [
    "<h4> Additional column</h4>\n",
    "<ul> <li>Add a new column to provide the property's distance from LGA airport. </li><ul>"
   ]
  },
  {
   "cell_type": "code",
   "execution_count": null,
   "id": "c8d6185d",
   "metadata": {},
   "outputs": [],
   "source": [
    "## find each house distance from LaGuardia Airport (LGA)that handles most of domestic flies in New york city.\n",
    "from geopy.distance import geodesic\n",
    "airport_point = (40.776863, -73.874069)\n",
    "def calculate_distance(row):\n",
    "    point = (row['lat'], row['long'])\n",
    "    return geodesic(airport_point, point).kilometers"
   ]
  },
  {
   "cell_type": "code",
   "execution_count": 225,
   "id": "2526a427-3112-4195-adc0-5373421bd83e",
   "metadata": {},
   "outputs": [],
   "source": [
    "df1.to_csv('clean_airbnb_data.csv',mode='w', index=False)"
   ]
  },
  {
   "cell_type": "code",
   "execution_count": 229,
   "id": "00930f75-586e-4ab3-a12e-5738e946e879",
   "metadata": {},
   "outputs": [
    {
     "name": "stdout",
     "output_type": "stream",
     "text": [
      "\u001b[34m==>\u001b[0m \u001b[1mAuto-updating Homebrew...\u001b[0m\n",
      "Adjust how often this is run with HOMEBREW_AUTO_UPDATE_SECS or disable with\n",
      "HOMEBREW_NO_AUTO_UPDATE. Hide these hints with HOMEBREW_NO_ENV_HINTS (see `man brew`).\n",
      "\u001b[34m==>\u001b[0m \u001b[1mAuto-updated Homebrew!\u001b[0m\n",
      "Updated 3 taps (homebrew/services, homebrew/core and homebrew/cask).\n",
      "\u001b[34m==>\u001b[0m \u001b[1mNew Formulae\u001b[0m\n",
      "codeberg-cli               kube-bench                 netatalk\n",
      "codesnap                   libsvgtiny                 termbg\n",
      "\u001b[34m==>\u001b[0m \u001b[1mNew Casks\u001b[0m\n",
      "font-atkinson-hyperlegible-mono          font-nanum-square-round\n",
      "font-atkinson-hyperlegible-next          macai\n",
      "font-nanum-square                        satdump\n",
      "font-nanum-square-neo                    serial-studio\n",
      "\n",
      "You have \u001b[1m6\u001b[0m outdated formulae installed.\n",
      "\n",
      "\u001b[34m==>\u001b[0m \u001b[1mDownloading https://ghcr.io/v2/homebrew/core/postgresql/14/manifests/14.15\u001b[0m\n",
      "######################################################################### 100.0%\n",
      "\u001b[32m==>\u001b[0m \u001b[1mFetching \u001b[32mpostgresql@14\u001b[39m\u001b[0m\n",
      "\u001b[34m==>\u001b[0m \u001b[1mDownloading https://ghcr.io/v2/homebrew/core/postgresql/14/blobs/sha256:821c\u001b[0m\n",
      "######################################################################### 100.0%\n",
      "\u001b[34m==>\u001b[0m \u001b[1mPouring postgresql@14--14.15.sonoma.bottle.tar.gz\u001b[0m\n",
      "\u001b[34m==>\u001b[0m \u001b[1mCaveats\u001b[0m\n",
      "This formula has created a default database cluster with:\n",
      "  initdb --locale=C -E UTF-8 /usr/local/var/postgresql@14\n",
      "\n",
      "To start postgresql@14 now and restart at login:\n",
      "  brew services start postgresql@14\n",
      "Or, if you don't want/need a background service you can just run:\n",
      "  /usr/local/opt/postgresql@14/bin/postgres -D /usr/local/var/postgresql@14\n",
      "\u001b[34m==>\u001b[0m \u001b[1mSummary\u001b[0m\n",
      "🍺  /usr/local/Cellar/postgresql@14/14.15: 3,328 files, 42.0MB\n",
      "\u001b[34m==>\u001b[0m \u001b[1mRunning `brew cleanup postgresql@14`...\u001b[0m\n",
      "Disable this behaviour by setting HOMEBREW_NO_INSTALL_CLEANUP.\n",
      "Hide these hints with HOMEBREW_NO_ENV_HINTS (see `man brew`).\n",
      "Removing: /Users/saeedazad/Library/Caches/Homebrew/postgresql@14_bottle_manifest--14.13... (23.3KB)\n"
     ]
    }
   ],
   "source": [
    "!brew install postgresql\n"
   ]
  },
  {
   "cell_type": "code",
   "execution_count": 230,
   "id": "b5f30feb-dca7-4fe7-a3c3-cced15a481ab",
   "metadata": {},
   "outputs": [
    {
     "name": "stdout",
     "output_type": "stream",
     "text": [
      "Collecting sqlalchemy\n",
      "  Using cached SQLAlchemy-2.0.37-cp313-cp313-macosx_10_13_x86_64.whl.metadata (9.6 kB)\n",
      "Collecting psycopg2\n",
      "  Using cached psycopg2-2.9.10.tar.gz (385 kB)\n",
      "  Installing build dependencies ... \u001b[?25ldone\n",
      "\u001b[?25h  Getting requirements to build wheel ... \u001b[?25ldone\n",
      "\u001b[?25h  Preparing metadata (pyproject.toml) ... \u001b[?25ldone\n",
      "\u001b[?25hCollecting greenlet!=0.4.17 (from sqlalchemy)\n",
      "  Downloading greenlet-3.1.1-cp313-cp313-macosx_11_0_universal2.whl.metadata (3.8 kB)\n",
      "Collecting typing-extensions>=4.6.0 (from sqlalchemy)\n",
      "  Using cached typing_extensions-4.12.2-py3-none-any.whl.metadata (3.0 kB)\n",
      "Downloading SQLAlchemy-2.0.37-cp313-cp313-macosx_10_13_x86_64.whl (2.1 MB)\n",
      "\u001b[2K   \u001b[90m━━━━━━━━━━━━━━━━━━━━━━━━━━━━━━━━━━━━━━━━\u001b[0m \u001b[32m2.1/2.1 MB\u001b[0m \u001b[31m180.1 kB/s\u001b[0m eta \u001b[36m0:00:00\u001b[0ma \u001b[36m0:00:02\u001b[0m\n",
      "\u001b[?25hDownloading greenlet-3.1.1-cp313-cp313-macosx_11_0_universal2.whl (272 kB)\n",
      "Using cached typing_extensions-4.12.2-py3-none-any.whl (37 kB)\n",
      "Building wheels for collected packages: psycopg2\n",
      "  Building wheel for psycopg2 (pyproject.toml) ... \u001b[?25ldone\n",
      "\u001b[?25h  Created wheel for psycopg2: filename=psycopg2-2.9.10-cp313-cp313-macosx_14_0_x86_64.whl size=144677 sha256=173714b23ecd9b65aa9c28842b6e82e7dce029a5ab758609fdde074d0f68a906\n",
      "  Stored in directory: /Users/saeedazad/Library/Caches/pip/wheels/d1/02/6b/6fab072a7ac365814e6d6217fef5525fa5ac3c64204a418040\n",
      "Successfully built psycopg2\n",
      "Installing collected packages: typing-extensions, psycopg2, greenlet, sqlalchemy\n",
      "Successfully installed greenlet-3.1.1 psycopg2-2.9.10 sqlalchemy-2.0.37 typing-extensions-4.12.2\n"
     ]
    }
   ],
   "source": [
    "!pip install  sqlalchemy psycopg2"
   ]
  },
  {
   "cell_type": "markdown",
   "id": "7d812920",
   "metadata": {},
   "source": [
    "#####  Integrating Data into Django\n",
    "\n",
    "As I want to integrate the data into Django, follow these steps:\n",
    "\n",
    "1. **Create Django Models**: Define the models in Django to match the structure of your DataFrame.\n",
    "2. **Insert Data into PostgreSQL**: Use the `df.to_sql()` function to efficiently transfer data\n",
    "\n",
    "                 "
   ]
  },
  {
   "cell_type": "code",
   "execution_count": 36,
   "id": "4ae1b647-f66b-4004-8482-7204a785b6d3",
   "metadata": {},
   "outputs": [
    {
     "ename": "ModuleNotFoundError",
     "evalue": "No module named 'sqlalchemy'",
     "output_type": "error",
     "traceback": [
      "\u001b[0;31m---------------------------------------------------------------------------\u001b[0m",
      "\u001b[0;31mModuleNotFoundError\u001b[0m                       Traceback (most recent call last)",
      "Cell \u001b[0;32mIn[36], line 1\u001b[0m\n\u001b[0;32m----> 1\u001b[0m \u001b[38;5;28;01mfrom\u001b[39;00m \u001b[38;5;21;01msqlalchemy\u001b[39;00m \u001b[38;5;28;01mimport\u001b[39;00m create_engine\n\u001b[1;32m      3\u001b[0m \u001b[38;5;66;03m# Replace the placeholders with your database credentials\u001b[39;00m\n\u001b[1;32m      4\u001b[0m DATABASE_TYPE \u001b[38;5;241m=\u001b[39m \u001b[38;5;124m'\u001b[39m\u001b[38;5;124mpostgresql\u001b[39m\u001b[38;5;124m'\u001b[39m\n",
      "\u001b[0;31mModuleNotFoundError\u001b[0m: No module named 'sqlalchemy'"
     ]
    }
   ],
   "source": [
    "\n",
    "from sqlalchemy import create_engine\n",
    "\n",
    "# Replace the placeholders with your database credentials\n",
    "DATABASE_TYPE = 'postgresql'\n",
    "DBAPI = 'psycopg2'\n",
    "USER = 'saeedazad'\n",
    "PASSWORD = '2431'\n",
    "HOST = 'localhost'\n",
    "PORT = 5432\n",
    "DATABASE = 'HomeStay'\n",
    "\n",
    "# Create the engine\n",
    "engine = create_engine(f'{DATABASE_TYPE}+{DBAPI}://{USER}:{PASSWORD}@{HOST}:{PORT}/{DATABASE}')\n"
   ]
  },
  {
   "cell_type": "code",
   "execution_count": null,
   "id": "34e3b521",
   "metadata": {},
   "outputs": [],
   "source": [
    "clean_df = pd.read_csv(\"/Users/saeedazad/clean_airbnb_data.csv\")\n",
    "df = clean_df.copy()\n",
    "df.head()"
   ]
  },
  {
   "cell_type": "code",
   "execution_count": 233,
   "id": "005af057-ff6c-459a-ae93-bae98bfd09ac",
   "metadata": {},
   "outputs": [
    {
     "data": {
      "text/plain": [
       "305"
      ]
     },
     "execution_count": 233,
     "metadata": {},
     "output_type": "execute_result"
    }
   ],
   "source": [
    "# Assuming df is your DataFrame\n",
    "df1.to_sql('airbnb_data', engine, index=False, if_exists='replace')  # Use 'append' if you want to add to an existing table\n"
   ]
  },
  {
   "cell_type": "code",
   "execution_count": 12,
   "id": "1f0619cd-451d-43b7-8481-e9dc85c3954b",
   "metadata": {},
   "outputs": [
    {
     "data": {
      "text/plain": [
       "array([0.21, 0.38,  nan, ...,  nan, 0.1 ,  nan], shape=(102599,))"
      ]
     },
     "execution_count": 12,
     "metadata": {},
     "output_type": "execute_result"
    }
   ],
   "source": [
    "values = df1['reviews_per_month'].values\n",
    "values"
   ]
  },
  {
   "cell_type": "code",
   "execution_count": 17,
   "id": "80ca17e4-f988-4de7-a5ab-5f9503fcdcdc",
   "metadata": {},
   "outputs": [
    {
     "data": {
      "image/png": "[encoded data removed]",
      "text/plain": [
       "<Figure size 1000x600 with 1 Axes>"
      ]
     },
     "metadata": {},
     "output_type": "display_data"
    }
   ],
   "source": [
    "# Create a boxplot\n",
    "import matplotlib.pyplot as plt\n",
    "import numpy as np\n",
    "\n",
    "# Generate some sample right-skewed data\n",
    "values = df1['reviews_per_month'].values\n",
    "\n",
    "# Create the figure and boxplot\n",
    "import seaborn as sns\n",
    "import matplotlib.pyplot as plt\n",
    "\n",
    "# Assuming your DataFrame is named 'df'\n",
    "plt.figure(figsize=(10, 6))\n",
    "sns.boxplot(y='reviews per month', data=df)\n",
    "plt.yscale('log')\n",
    "plt.show()\n",
    "\n",
    "\n"
   ]
  },
  {
   "cell_type": "code",
   "execution_count": 19,
   "id": "9f204c4e-e3d9-41db-ae6e-29b6d00ca184",
   "metadata": {},
   "outputs": [
    {
     "data": {
      "image/png": "[encoded data removed]",
      "text/plain": [
       "<Figure size 1000x600 with 1 Axes>"
      ]
     },
     "metadata": {},
     "output_type": "display_data"
    }
   ],
   "source": [
    "import matplotlib.pyplot as plt\n",
    "import numpy as np\n",
    "\n",
    "# Assuming your DataFrame is named 'df'\n",
    "reviews = df1['reviews_per_month']\n",
    "\n",
    "plt.figure(figsize=(10, 6))\n",
    "plt.boxplot(reviews, vert=True, patch_artist=True)\n",
    "plt.yscale('log')\n",
    "plt.ylabel('Reviews per Month')\n",
    "plt.title('Box Plot of Reviews per Month (Log Scale)')\n",
    "plt.show()\n"
   ]
  },
  {
   "cell_type": "code",
   "execution_count": null,
   "id": "40da3824-b0b0-4de1-bd77-6d4e15809b54",
   "metadata": {},
   "outputs": [],
   "source": [
    "grouped = df1.groupby('neighbourhood_group')['price'].mean()"
   ]
  },
  {
   "cell_type": "code",
   "execution_count": null,
   "id": "6c0f75c0-2d54-41d9-bdfa-7ef0ebf23593",
   "metadata": {},
   "outputs": [],
   "source": [
    "grouped"
   ]
  },
  {
   "cell_type": "code",
   "execution_count": 8,
   "id": "ef8f896c-6e7b-4a99-a2e8-eefa7945579d",
   "metadata": {
    "scrolled": true
   },
   "outputs": [],
   "source": [
    "#!pip install matplotlib\n",
    "import matplotlib.pyplot as plt"
   ]
  },
  {
   "cell_type": "code",
   "execution_count": null,
   "id": "7d664976-74c7-4c83-adf3-67801927a755",
   "metadata": {},
   "outputs": [],
   "source": [
    "#Top 10 most expensive neighbourhoods\n",
    "data = df1.groupby('neighbourhood')['price'].mean().sort_values(ascending=False)[:10]"
   ]
  },
  {
   "cell_type": "code",
   "execution_count": null,
   "id": "568e9c3d-89a1-4626-92c2-c5b124a6994e",
   "metadata": {},
   "outputs": [],
   "source": [
    "data"
   ]
  },
  {
   "cell_type": "code",
   "execution_count": null,
   "id": "a13f30d8-0c89-43ff-beee-b573d41da8b6",
   "metadata": {},
   "outputs": [],
   "source": [
    "# 10 suburbs with the most airbnb locations \n",
    "top_neighbourhoods = df1.groupby('neighbourhood')['host_id'].count().sort_values(ascending=False)[:10]"
   ]
  },
  {
   "cell_type": "code",
   "execution_count": null,
   "id": "c30c49dc-7621-4ee6-8021-c5a587c1e5ee",
   "metadata": {},
   "outputs": [],
   "source": [
    "top_neighbourhoods"
   ]
  },
  {
   "cell_type": "code",
   "execution_count": null,
   "id": "2c2ad989-4a32-43f3-8221-add2c6099a09",
   "metadata": {},
   "outputs": [],
   "source": [
    "plt.figure(figsize=(10,6))\n",
    "plt.bar(top_neighbourhoods.index, top_neighbourhoods.values, color='skyblue')\n",
    "plt.xticks(rotation=45)\n",
    "plt.show()"
   ]
  },
  {
   "cell_type": "code",
   "execution_count": null,
   "id": "fc606df0-8f33-411d-84b3-87aa71bb07bb",
   "metadata": {},
   "outputs": [],
   "source": [
    "top_neighbourhoods.plot(kind='bar', color='skyblue')\n",
    "plt.show()"
   ]
  },
  {
   "cell_type": "code",
   "execution_count": null,
   "id": "15eb07a8-c07e-445e-9e79-99c340fc0583",
   "metadata": {},
   "outputs": [],
   "source": [
    "top_reviewd_listing = df[['host id', 'NAME','number of reviews', 'neighbourhood']].sort_values(by='number of reviews',\n",
    "                                                                                                ascending=False).head(10)"
   ]
  },
  {
   "cell_type": "code",
   "execution_count": null,
   "id": "c449cfaf-e2f2-4536-a773-508cfceff37a",
   "metadata": {},
   "outputs": [],
   "source": [
    "top_reviewd_listing"
   ]
  },
  {
   "cell_type": "code",
   "execution_count": null,
   "id": "2474824d-98a7-46e7-b6a7-f1539b7fd484",
   "metadata": {},
   "outputs": [],
   "source": [
    "#scatter find relationship between price and number of reviews\n",
    "plt.figure(figsize=(10,6))\n",
    "plt.scatter(df1['price'], df1['number of reviews'], color='skyblue', alpha=0.5)\n",
    "plt.xlabel('Price')\n",
    "plt.ylabel('Number of Reviews')\n",
    "plt.title('Price vs. Number of Reviews')\n",
    "plt.show()\n"
   ]
  },
  {
   "cell_type": "code",
   "execution_count": null,
   "id": "463fe881-e381-4b03-a7fe-63dcb87224bb",
   "metadata": {},
   "outputs": [],
   "source": [
    "# find null values \n",
    "null_values = df.isnull()"
   ]
  },
  {
   "cell_type": "code",
   "execution_count": null,
   "id": "ae0ec519-f7fe-4538-86d8-522bf5d744f7",
   "metadata": {},
   "outputs": [],
   "source": [
    "null_values"
   ]
  },
  {
   "cell_type": "code",
   "execution_count": null,
   "id": "40855eb4-60b9-41d9-94f6-7047402cf169",
   "metadata": {},
   "outputs": [],
   "source": [
    "df1.isna().sum()"
   ]
  },
  {
   "cell_type": "code",
   "execution_count": null,
   "id": "73e4bf4c-9dbc-4551-ad81-adfff093abb8",
   "metadata": {},
   "outputs": [],
   "source": [
    "import seaborn as sns\n",
    "# Create the box plot\n",
    "plt.figure(figsize=(10, 6))\n",
    "sns.boxplot(data=df1, x='price')\n",
    "plt.title('Box Plot of Price')\n",
    "plt.xlabel('Price')\n",
    "plt.show()\n",
    "\n"
   ]
  },
  {
   "cell_type": "code",
   "execution_count": null,
   "id": "b11c92aa-8a58-4b14-b3b8-832d3beaf8d5",
   "metadata": {},
   "outputs": [],
   "source": [
    "plt.figure(figsize=(10, 6))\n",
    "sns.histplot(df1['price'], bins=30, kde=True)\n",
    "plt.title('Price Distribution')\n",
    "plt.xlabel('Price')\n",
    "plt.ylabel('Frequency')\n",
    "plt.show()\n"
   ]
  },
  {
   "cell_type": "code",
   "execution_count": null,
   "id": "5bf9f3ec-0ca7-48a0-b329-8ef07728a34a",
   "metadata": {},
   "outputs": [],
   "source": [
    "import scipy.stats as stats\n",
    "stats.probplot(df1['price'], dist=\"norm\", plot=plt)\n",
    "plt.show()"
   ]
  },
  {
   "cell_type": "code",
   "execution_count": null,
   "id": "bab2abc7-37ad-4d7e-81c7-0de6a75a574d",
   "metadata": {},
   "outputs": [],
   "source": [
    "print(df1['price'].describe())\n",
    "print(f\"Skewness: {df1['price'].skew()}\")\n",
    "print(f\"Kurtosis: {df1['price'].kurt()}\")\n"
   ]
  },
  {
   "cell_type": "code",
   "execution_count": null,
   "id": "534a9873-9667-4c64-b7ef-1b456d685e1f",
   "metadata": {},
   "outputs": [],
   "source": [
    "from scipy import stats\n",
    "\n",
    "# Compute Z-scores\n",
    "df1['z_score_price'] = stats.zscore(df1['price'])\n",
    "outliers_z = df1[(df1['z_score_price'] > 3) | (df1['z_score_price'] < -3)]\n",
    "print(f'Number of outliers detected using Z-scores: {len(outliers_z)}')\n"
   ]
  },
  {
   "cell_type": "code",
   "execution_count": 123,
   "id": "ae0c66d2-27e7-42ab-a8f1-2c8e5f3c1c2c",
   "metadata": {},
   "outputs": [
    {
     "name": "stdout",
     "output_type": "stream",
     "text": [
      "Number of outliers detected using IQR: 0\n"
     ]
    }
   ],
   "source": [
    "Q1 = df1['price'].quantile(0.25)\n",
    "Q3 = df1['price'].quantile(0.75)\n",
    "IQR = Q3 - Q1\n",
    "\n",
    "# Identify outliers\n",
    "outliers_iqr = df1[(df1['price'] < (Q1 - 1.5 * IQR)) | (df1['price'] > (Q3 + 1.5 * IQR))]\n",
    "print(f'Number of outliers detected using IQR: {len(outliers_iqr)}')\n"
   ]
  },
  {
   "cell_type": "code",
   "execution_count": 121,
   "id": "9c481cba-6cc9-42aa-8a63-8a51cfe60136",
   "metadata": {},
   "outputs": [],
   "source": [
    "data = df1.groupby(['neighbourhood']).agg({'price':'mean', 'review_rate_number':'mean'}).sort_values(by='price', ascending=False).round(2)"
   ]
  },
  {
   "cell_type": "code",
   "execution_count": 122,
   "id": "c8f2e305-06e5-4934-a654-690d836f76bf",
   "metadata": {},
   "outputs": [
    {
     "data": {
      "text/html": [
       "<div>\n",
       "<style scoped>\n",
       "    .dataframe tbody tr th:only-of-type {\n",
       "        vertical-align: middle;\n",
       "    }\n",
       "\n",
       "    .dataframe tbody tr th {\n",
       "        vertical-align: top;\n",
       "    }\n",
       "\n",
       "    .dataframe thead th {\n",
       "        text-align: right;\n",
       "    }\n",
       "</style>\n",
       "<table border=\"1\" class=\"dataframe\">\n",
       "  <thead>\n",
       "    <tr style=\"text-align: right;\">\n",
       "      <th></th>\n",
       "      <th>price</th>\n",
       "      <th>review_rate_number</th>\n",
       "    </tr>\n",
       "    <tr>\n",
       "      <th>neighbourhood</th>\n",
       "      <th></th>\n",
       "      <th></th>\n",
       "    </tr>\n",
       "  </thead>\n",
       "  <tbody>\n",
       "    <tr>\n",
       "      <th>New Dorp</th>\n",
       "      <td>1045.00</td>\n",
       "      <td>3.25</td>\n",
       "    </tr>\n",
       "    <tr>\n",
       "      <th>Chelsea, Staten Island</th>\n",
       "      <td>1042.00</td>\n",
       "      <td>2.00</td>\n",
       "    </tr>\n",
       "    <tr>\n",
       "      <th>Fort Wadsworth</th>\n",
       "      <td>1024.00</td>\n",
       "      <td>2.00</td>\n",
       "    </tr>\n",
       "    <tr>\n",
       "      <th>Little Neck</th>\n",
       "      <td>817.75</td>\n",
       "      <td>3.88</td>\n",
       "    </tr>\n",
       "    <tr>\n",
       "      <th>Jamaica Hills</th>\n",
       "      <td>812.90</td>\n",
       "      <td>2.67</td>\n",
       "    </tr>\n",
       "    <tr>\n",
       "      <th>Arden Heights</th>\n",
       "      <td>804.89</td>\n",
       "      <td>3.78</td>\n",
       "    </tr>\n",
       "    <tr>\n",
       "      <th>Midland Beach</th>\n",
       "      <td>796.18</td>\n",
       "      <td>3.29</td>\n",
       "    </tr>\n",
       "    <tr>\n",
       "      <th>Shore Acres</th>\n",
       "      <td>792.26</td>\n",
       "      <td>3.78</td>\n",
       "    </tr>\n",
       "    <tr>\n",
       "      <th>Mill Basin</th>\n",
       "      <td>775.14</td>\n",
       "      <td>3.79</td>\n",
       "    </tr>\n",
       "    <tr>\n",
       "      <th>Riverdale</th>\n",
       "      <td>768.74</td>\n",
       "      <td>3.21</td>\n",
       "    </tr>\n",
       "  </tbody>\n",
       "</table>\n",
       "</div>"
      ],
      "text/plain": [
       "                          price  review_rate_number\n",
       "neighbourhood                                      \n",
       "New Dorp                1045.00                3.25\n",
       "Chelsea, Staten Island  1042.00                2.00\n",
       "Fort Wadsworth          1024.00                2.00\n",
       "Little Neck              817.75                3.88\n",
       "Jamaica Hills            812.90                2.67\n",
       "Arden Heights            804.89                3.78\n",
       "Midland Beach            796.18                3.29\n",
       "Shore Acres              792.26                3.78\n",
       "Mill Basin               775.14                3.79\n",
       "Riverdale                768.74                3.21"
      ]
     },
     "execution_count": 122,
     "metadata": {},
     "output_type": "execute_result"
    }
   ],
   "source": [
    "data.head(10)"
   ]
  },
  {
   "cell_type": "code",
   "execution_count": null,
   "id": "53ddeb15-044b-43d0-9177-15e1d80a966c",
   "metadata": {},
   "outputs": [],
   "source": [
    "plt.figure(figsize=(10, 6))\n",
    "plt.scatter(data[\"review_rate_number\"], data[\"price\"], alpha=0.5)\n",
    "plt.show()"
   ]
  },
  {
   "cell_type": "code",
   "execution_count": null,
   "id": "66b5564a-f521-44f3-bf19-dabc2dffc720",
   "metadata": {},
   "outputs": [],
   "source": [
    "data = df1['neighbourhood_group'][df1['neighbourhood']=='Arden Heights'].unique()\n",
    "data"
   ]
  },
  {
   "cell_type": "code",
   "execution_count": 27,
   "id": "2d60ac1b-e206-4056-9b8a-5b4b1fe9b044",
   "metadata": {},
   "outputs": [],
   "source": [
    "group = df1.loc[df1['neighbourhood']=='Arden Heights', ['neighbourhood_group', 'price']].round(1)[:2]"
   ]
  },
  {
   "cell_type": "code",
   "execution_count": 28,
   "id": "45febca8-3537-4076-98d1-4b3d56a03917",
   "metadata": {},
   "outputs": [
    {
     "data": {
      "text/html": [
       "<div>\n",
       "<style scoped>\n",
       "    .dataframe tbody tr th:only-of-type {\n",
       "        vertical-align: middle;\n",
       "    }\n",
       "\n",
       "    .dataframe tbody tr th {\n",
       "        vertical-align: top;\n",
       "    }\n",
       "\n",
       "    .dataframe thead th {\n",
       "        text-align: right;\n",
       "    }\n",
       "</style>\n",
       "<table border=\"1\" class=\"dataframe\">\n",
       "  <thead>\n",
       "    <tr style=\"text-align: right;\">\n",
       "      <th></th>\n",
       "      <th>neighbourhood_group</th>\n",
       "      <th>price</th>\n",
       "    </tr>\n",
       "  </thead>\n",
       "  <tbody>\n",
       "    <tr>\n",
       "      <th>29605</th>\n",
       "      <td>Staten Island</td>\n",
       "      <td>961.0</td>\n",
       "    </tr>\n",
       "    <tr>\n",
       "      <th>35820</th>\n",
       "      <td>Staten Island</td>\n",
       "      <td>604.0</td>\n",
       "    </tr>\n",
       "  </tbody>\n",
       "</table>\n",
       "</div>"
      ],
      "text/plain": [
       "      neighbourhood_group  price\n",
       "29605       Staten Island  961.0\n",
       "35820       Staten Island  604.0"
      ]
     },
     "execution_count": 28,
     "metadata": {},
     "output_type": "execute_result"
    }
   ],
   "source": [
    "group"
   ]
  },
  {
   "cell_type": "code",
   "execution_count": 26,
   "id": "a6d1d713-c03e-4b23-bbbd-0ad33d4027ab",
   "metadata": {},
   "outputs": [
    {
     "data": {
      "text/plain": [
       "Index([  150519910,   176369804,   538762830,   635525656,   651454903,\n",
       "         653456847,   846909103,   862834181,   885280047,  1074774907,\n",
       "       ...\n",
       "       95871502414, 96025410264, 96980723329, 97219387634, 97528248465,\n",
       "       97606085736, 98245243479, 98280718071, 98342871281, 98402835539],\n",
       "      dtype='int64', name='host_id', length=542)"
      ]
     },
     "execution_count": 26,
     "metadata": {},
     "output_type": "execute_result"
    }
   ],
   "source": [
    "host_ids = df1.groupby('host_id')['id'].count()\n",
    "multiple_properties = host_ids[host_ids>1].index\n",
    "multiple_properties"
   ]
  },
  {
   "cell_type": "code",
   "execution_count": null,
   "id": "792bb519-3478-4ae0-8ac8-ace184d87051",
   "metadata": {},
   "outputs": [],
   "source": [
    "df['distance_to_airport'] = df.apply(calculate_distance, axis=1)\n",
    "df['distance_to_airport'] = df['distance_to_airport'].round(2)\n",
    "max_distance = df[df['distance_to_airport']== min(df['distance_to_airport'])]\n",
    "max_distance\n",
    "\n",
    "\n",
    "hosts = df[['host_id', 'host_name', 'host_identity_verified', 'calculated_host_listings_count']].drop_duplicates()\n"
   ]
  },
  {
   "cell_type": "code",
   "execution_count": null,
   "id": "c682be95",
   "metadata": {},
   "outputs": [],
   "source": [
    "data = hosts.loc[(hosts['host_id']==29531702698) &  (hosts['calculated_host_listings_count']==6.0) ]\n",
    "# df.drop(index=42960, inplace=True)\n",
    "hosts.drop(index=42960, inplace=True)\n",
    "hosts.to_sql('hosts', engine, index=False, if_exists='append')\n",
    "hosts.to_sql('hosts', engine, index=False, if_exists='append')\n",
    "listings = df[[\n",
    "    'id', 'NAME', 'host_id', 'neighbourhood_group', 'neighbourhood', \n",
    "    'lat', 'long', 'room_type', 'Construction_year', 'price', \n",
    "    'service_fee', 'minimum_nights', 'availability_365', 'instant_bookable', 'cancellation_policy'\n",
    "]].drop_duplicates()\n",
    "reviews = df[['id', 'number_of_reviews', 'last_review', \n",
    "    'reviews_per_month', 'review_rate_number']].drop_duplicates()\n",
    "\n",
    "# the first rest_index(drop=True) removes the current index and replace it with a standard integer index, the second index\n",
    "# creates a new column called 'index' containing these sequential integers\n",
    "\n",
    "reviews = reviews.reset_index(drop=True).reset_index()\n",
    "reviews.rename(columns={'index': 'review_id', 'id': 'listing_id'}, inplace=True)\n",
    "reviews.to_sql('reviews', engine, index=False, if_exists='replace')"
   ]
  }
 ],
 "metadata": {
  "kernelspec": {
   "display_name": "airbnb_venv",
   "language": "python",
   "name": "python3"
  },
  "language_info": {
   "codemirror_mode": {
    "name": "ipython",
    "version": 3
   },
   "file_extension": ".py",
   "mimetype": "text/x-python",
   "name": "python",
   "nbconvert_exporter": "python",
   "pygments_lexer": "ipython3",
   "version": "3.13.2"
  }
 },
 "nbformat": 4,
 "nbformat_minor": 5
}
